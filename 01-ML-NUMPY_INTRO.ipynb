{
 "cells": [
  {
   "cell_type": "code",
   "execution_count": 1,
   "metadata": {},
   "outputs": [],
   "source": [
    "i = 10"
   ]
  },
  {
   "cell_type": "code",
   "execution_count": 2,
   "metadata": {},
   "outputs": [],
   "source": [
    "a = 5"
   ]
  },
  {
   "cell_type": "code",
   "execution_count": 3,
   "metadata": {},
   "outputs": [
    {
     "data": {
      "text/plain": [
       "50"
      ]
     },
     "execution_count": 3,
     "metadata": {},
     "output_type": "execute_result"
    }
   ],
   "source": [
    "a * i"
   ]
  },
  {
   "cell_type": "code",
   "execution_count": 4,
   "metadata": {},
   "outputs": [
    {
     "data": {
      "text/plain": [
       "25"
      ]
     },
     "execution_count": 4,
     "metadata": {},
     "output_type": "execute_result"
    }
   ],
   "source": [
    "a * a"
   ]
  },
  {
   "cell_type": "code",
   "execution_count": 5,
   "metadata": {},
   "outputs": [],
   "source": [
    "i = 7"
   ]
  },
  {
   "cell_type": "code",
   "execution_count": 6,
   "metadata": {},
   "outputs": [
    {
     "data": {
      "text/plain": [
       "35"
      ]
     },
     "execution_count": 6,
     "metadata": {},
     "output_type": "execute_result"
    }
   ],
   "source": [
    "a * i"
   ]
  },
  {
   "cell_type": "code",
   "execution_count": 7,
   "metadata": {},
   "outputs": [],
   "source": [
    "x = 10"
   ]
  },
  {
   "cell_type": "code",
   "execution_count": 8,
   "metadata": {},
   "outputs": [],
   "source": [
    "X = 5"
   ]
  },
  {
   "cell_type": "code",
   "execution_count": 9,
   "metadata": {},
   "outputs": [
    {
     "name": "stdout",
     "output_type": "stream",
     "text": [
      "10\n"
     ]
    }
   ],
   "source": [
    "print(x)"
   ]
  },
  {
   "cell_type": "code",
   "execution_count": 10,
   "metadata": {},
   "outputs": [
    {
     "name": "stdout",
     "output_type": "stream",
     "text": [
      "5\n"
     ]
    }
   ],
   "source": [
    "print(X)"
   ]
  },
  {
   "cell_type": "code",
   "execution_count": 11,
   "metadata": {},
   "outputs": [
    {
     "data": {
      "text/plain": [
       "50"
      ]
     },
     "execution_count": 11,
     "metadata": {},
     "output_type": "execute_result"
    }
   ],
   "source": [
    "x*X"
   ]
  },
  {
   "cell_type": "code",
   "execution_count": 12,
   "metadata": {},
   "outputs": [],
   "source": [
    "x = 0"
   ]
  },
  {
   "cell_type": "code",
   "execution_count": 13,
   "metadata": {},
   "outputs": [
    {
     "data": {
      "text/plain": [
       "40"
      ]
     },
     "execution_count": 13,
     "metadata": {},
     "output_type": "execute_result"
    }
   ],
   "source": [
    "x*x + 3*x + 40"
   ]
  },
  {
   "cell_type": "code",
   "execution_count": 14,
   "metadata": {},
   "outputs": [],
   "source": [
    "x = 5"
   ]
  },
  {
   "cell_type": "code",
   "execution_count": 15,
   "metadata": {},
   "outputs": [
    {
     "data": {
      "text/plain": [
       "80"
      ]
     },
     "execution_count": 15,
     "metadata": {},
     "output_type": "execute_result"
    }
   ],
   "source": [
    "x*x + 3*x + 40"
   ]
  },
  {
   "cell_type": "code",
   "execution_count": 16,
   "metadata": {},
   "outputs": [],
   "source": [
    "import numpy as np\n",
    "## SHIFT+ENTER"
   ]
  },
  {
   "cell_type": "code",
   "execution_count": 17,
   "metadata": {},
   "outputs": [],
   "source": [
    "a = np.array([1.0,2.0,3])"
   ]
  },
  {
   "cell_type": "code",
   "execution_count": 18,
   "metadata": {},
   "outputs": [
    {
     "data": {
      "text/plain": [
       "array([1., 2., 3.])"
      ]
     },
     "execution_count": 18,
     "metadata": {},
     "output_type": "execute_result"
    }
   ],
   "source": [
    "a"
   ]
  },
  {
   "cell_type": "code",
   "execution_count": 19,
   "metadata": {},
   "outputs": [
    {
     "data": {
      "text/plain": [
       "numpy.ndarray"
      ]
     },
     "execution_count": 19,
     "metadata": {},
     "output_type": "execute_result"
    }
   ],
   "source": [
    "type(a)"
   ]
  },
  {
   "cell_type": "code",
   "execution_count": 20,
   "metadata": {},
   "outputs": [
    {
     "data": {
      "text/plain": [
       "dtype('float64')"
      ]
     },
     "execution_count": 20,
     "metadata": {},
     "output_type": "execute_result"
    }
   ],
   "source": [
    "a.dtype"
   ]
  },
  {
   "cell_type": "code",
   "execution_count": 21,
   "metadata": {},
   "outputs": [
    {
     "data": {
      "text/plain": [
       "1"
      ]
     },
     "execution_count": 21,
     "metadata": {},
     "output_type": "execute_result"
    }
   ],
   "source": [
    "a.ndim"
   ]
  },
  {
   "cell_type": "code",
   "execution_count": 22,
   "metadata": {},
   "outputs": [],
   "source": [
    "a = np.arange(15).reshape(3, 5)"
   ]
  },
  {
   "cell_type": "code",
   "execution_count": 23,
   "metadata": {},
   "outputs": [
    {
     "data": {
      "text/plain": [
       "array([[ 0,  1,  2,  3,  4],\n",
       "       [ 5,  6,  7,  8,  9],\n",
       "       [10, 11, 12, 13, 14]])"
      ]
     },
     "execution_count": 23,
     "metadata": {},
     "output_type": "execute_result"
    }
   ],
   "source": [
    "a"
   ]
  },
  {
   "cell_type": "code",
   "execution_count": 24,
   "metadata": {},
   "outputs": [
    {
     "data": {
      "text/plain": [
       "2"
      ]
     },
     "execution_count": 24,
     "metadata": {},
     "output_type": "execute_result"
    }
   ],
   "source": [
    "a.ndim"
   ]
  },
  {
   "cell_type": "code",
   "execution_count": 25,
   "metadata": {},
   "outputs": [
    {
     "data": {
      "text/plain": [
       "15"
      ]
     },
     "execution_count": 25,
     "metadata": {},
     "output_type": "execute_result"
    }
   ],
   "source": [
    "a.size"
   ]
  },
  {
   "cell_type": "code",
   "execution_count": 26,
   "metadata": {},
   "outputs": [
    {
     "data": {
      "text/plain": [
       "(3, 5)"
      ]
     },
     "execution_count": 26,
     "metadata": {},
     "output_type": "execute_result"
    }
   ],
   "source": [
    "a.shape"
   ]
  },
  {
   "cell_type": "code",
   "execution_count": 27,
   "metadata": {},
   "outputs": [
    {
     "data": {
      "text/plain": [
       "dtype('int64')"
      ]
     },
     "execution_count": 27,
     "metadata": {},
     "output_type": "execute_result"
    }
   ],
   "source": [
    "a.dtype"
   ]
  },
  {
   "cell_type": "code",
   "execution_count": 28,
   "metadata": {},
   "outputs": [
    {
     "data": {
      "text/plain": [
       "8"
      ]
     },
     "execution_count": 28,
     "metadata": {},
     "output_type": "execute_result"
    }
   ],
   "source": [
    "a.itemsize"
   ]
  },
  {
   "cell_type": "code",
   "execution_count": 29,
   "metadata": {},
   "outputs": [],
   "source": [
    "b = np.array(['xyz','wery'])"
   ]
  },
  {
   "cell_type": "code",
   "execution_count": 30,
   "metadata": {},
   "outputs": [
    {
     "data": {
      "text/plain": [
       "array(['xyz', 'wery'], dtype='<U4')"
      ]
     },
     "execution_count": 30,
     "metadata": {},
     "output_type": "execute_result"
    }
   ],
   "source": [
    "b"
   ]
  },
  {
   "cell_type": "code",
   "execution_count": 31,
   "metadata": {},
   "outputs": [
    {
     "data": {
      "text/plain": [
       "dtype('<U4')"
      ]
     },
     "execution_count": 31,
     "metadata": {},
     "output_type": "execute_result"
    }
   ],
   "source": [
    "b.dtype"
   ]
  },
  {
   "cell_type": "code",
   "execution_count": 32,
   "metadata": {},
   "outputs": [
    {
     "data": {
      "text/plain": [
       "'str128'"
      ]
     },
     "execution_count": 32,
     "metadata": {},
     "output_type": "execute_result"
    }
   ],
   "source": [
    "b.dtype.name"
   ]
  },
  {
   "cell_type": "code",
   "execution_count": 33,
   "metadata": {},
   "outputs": [],
   "source": [
    "c = np.array([1,2,3], dtype=complex)"
   ]
  },
  {
   "cell_type": "code",
   "execution_count": 34,
   "metadata": {},
   "outputs": [
    {
     "data": {
      "text/plain": [
       "array([1.+0.j, 2.+0.j, 3.+0.j])"
      ]
     },
     "execution_count": 34,
     "metadata": {},
     "output_type": "execute_result"
    }
   ],
   "source": [
    "c"
   ]
  },
  {
   "cell_type": "code",
   "execution_count": 35,
   "metadata": {},
   "outputs": [
    {
     "data": {
      "text/plain": [
       "dtype('complex128')"
      ]
     },
     "execution_count": 35,
     "metadata": {},
     "output_type": "execute_result"
    }
   ],
   "source": [
    "c.dtype"
   ]
  },
  {
   "cell_type": "code",
   "execution_count": 36,
   "metadata": {},
   "outputs": [
    {
     "data": {
      "text/plain": [
       "'complex128'"
      ]
     },
     "execution_count": 36,
     "metadata": {},
     "output_type": "execute_result"
    }
   ],
   "source": [
    "c.dtype.name"
   ]
  },
  {
   "cell_type": "code",
   "execution_count": 37,
   "metadata": {},
   "outputs": [
    {
     "data": {
      "text/plain": [
       "array([[0., 0., 0.],\n",
       "       [0., 0., 0.],\n",
       "       [0., 0., 0.]])"
      ]
     },
     "execution_count": 37,
     "metadata": {},
     "output_type": "execute_result"
    }
   ],
   "source": [
    "np.zeros((3,3))"
   ]
  },
  {
   "cell_type": "code",
   "execution_count": 38,
   "metadata": {
    "scrolled": true
   },
   "outputs": [
    {
     "data": {
      "text/plain": [
       "array([[0., 0., 0.],\n",
       "       [0., 0., 0.],\n",
       "       [0., 0., 0.],\n",
       "       [0., 0., 0.]])"
      ]
     },
     "execution_count": 38,
     "metadata": {},
     "output_type": "execute_result"
    }
   ],
   "source": [
    "np.zeros((4,3))"
   ]
  },
  {
   "cell_type": "code",
   "execution_count": 39,
   "metadata": {},
   "outputs": [
    {
     "data": {
      "text/plain": [
       "array([[0., 0., 0., 0., 0., 0., 0., 0., 0., 0., 0., 0., 0., 0., 0., 0.,\n",
       "        0., 0., 0., 0., 0., 0., 0., 0., 0., 0., 0., 0., 0., 0.],\n",
       "       [0., 0., 0., 0., 0., 0., 0., 0., 0., 0., 0., 0., 0., 0., 0., 0.,\n",
       "        0., 0., 0., 0., 0., 0., 0., 0., 0., 0., 0., 0., 0., 0.],\n",
       "       [0., 0., 0., 0., 0., 0., 0., 0., 0., 0., 0., 0., 0., 0., 0., 0.,\n",
       "        0., 0., 0., 0., 0., 0., 0., 0., 0., 0., 0., 0., 0., 0.]])"
      ]
     },
     "execution_count": 39,
     "metadata": {},
     "output_type": "execute_result"
    }
   ],
   "source": [
    "np.zeros((3,30))"
   ]
  },
  {
   "cell_type": "code",
   "execution_count": 40,
   "metadata": {},
   "outputs": [
    {
     "data": {
      "text/plain": [
       "array([[1., 1., 1.],\n",
       "       [1., 1., 1.],\n",
       "       [1., 1., 1.]])"
      ]
     },
     "execution_count": 40,
     "metadata": {},
     "output_type": "execute_result"
    }
   ],
   "source": [
    "np.ones((3,3))"
   ]
  },
  {
   "cell_type": "code",
   "execution_count": 41,
   "metadata": {},
   "outputs": [],
   "source": [
    "d = np.ones((4,4))"
   ]
  },
  {
   "cell_type": "code",
   "execution_count": 42,
   "metadata": {},
   "outputs": [
    {
     "data": {
      "text/plain": [
       "array([[1., 1., 1., 1.],\n",
       "       [1., 1., 1., 1.],\n",
       "       [1., 1., 1., 1.],\n",
       "       [1., 1., 1., 1.]])"
      ]
     },
     "execution_count": 42,
     "metadata": {},
     "output_type": "execute_result"
    }
   ],
   "source": [
    "d"
   ]
  },
  {
   "cell_type": "code",
   "execution_count": 43,
   "metadata": {},
   "outputs": [
    {
     "data": {
      "text/plain": [
       "dtype('float64')"
      ]
     },
     "execution_count": 43,
     "metadata": {},
     "output_type": "execute_result"
    }
   ],
   "source": [
    "d.dtype"
   ]
  },
  {
   "cell_type": "code",
   "execution_count": 44,
   "metadata": {},
   "outputs": [
    {
     "data": {
      "text/plain": [
       "array([1, 2, 3, 4, 5, 6, 7, 8, 9])"
      ]
     },
     "execution_count": 44,
     "metadata": {},
     "output_type": "execute_result"
    }
   ],
   "source": [
    "np.arange(1,10)"
   ]
  },
  {
   "cell_type": "code",
   "execution_count": 45,
   "metadata": {},
   "outputs": [
    {
     "data": {
      "text/plain": [
       "array([0, 1, 2, 3, 4, 5, 6, 7, 8, 9])"
      ]
     },
     "execution_count": 45,
     "metadata": {},
     "output_type": "execute_result"
    }
   ],
   "source": [
    "np.arange(10)"
   ]
  },
  {
   "cell_type": "code",
   "execution_count": 46,
   "metadata": {},
   "outputs": [
    {
     "data": {
      "text/plain": [
       "array([[0, 1, 2, 3, 4],\n",
       "       [5, 6, 7, 8, 9]])"
      ]
     },
     "execution_count": 46,
     "metadata": {},
     "output_type": "execute_result"
    }
   ],
   "source": [
    "np.arange(10).reshape(2,5)"
   ]
  },
  {
   "cell_type": "code",
   "execution_count": 47,
   "metadata": {},
   "outputs": [],
   "source": [
    "x = np.arange(0,10,0.2)"
   ]
  },
  {
   "cell_type": "code",
   "execution_count": 48,
   "metadata": {},
   "outputs": [
    {
     "data": {
      "text/plain": [
       "array([0. , 0.2, 0.4, 0.6, 0.8, 1. , 1.2, 1.4, 1.6, 1.8, 2. , 2.2, 2.4,\n",
       "       2.6, 2.8, 3. , 3.2, 3.4, 3.6, 3.8, 4. , 4.2, 4.4, 4.6, 4.8, 5. ,\n",
       "       5.2, 5.4, 5.6, 5.8, 6. , 6.2, 6.4, 6.6, 6.8, 7. , 7.2, 7.4, 7.6,\n",
       "       7.8, 8. , 8.2, 8.4, 8.6, 8.8, 9. , 9.2, 9.4, 9.6, 9.8])"
      ]
     },
     "execution_count": 48,
     "metadata": {},
     "output_type": "execute_result"
    }
   ],
   "source": [
    "x"
   ]
  },
  {
   "cell_type": "code",
   "execution_count": 49,
   "metadata": {},
   "outputs": [
    {
     "data": {
      "text/plain": [
       "dtype('float64')"
      ]
     },
     "execution_count": 49,
     "metadata": {},
     "output_type": "execute_result"
    }
   ],
   "source": [
    "x.dtype"
   ]
  },
  {
   "cell_type": "code",
   "execution_count": 50,
   "metadata": {},
   "outputs": [],
   "source": [
    "x = np.arange(0,10)"
   ]
  },
  {
   "cell_type": "code",
   "execution_count": 51,
   "metadata": {},
   "outputs": [
    {
     "data": {
      "text/plain": [
       "array([0, 1, 2, 3, 4, 5, 6, 7, 8, 9])"
      ]
     },
     "execution_count": 51,
     "metadata": {},
     "output_type": "execute_result"
    }
   ],
   "source": [
    "x"
   ]
  },
  {
   "cell_type": "code",
   "execution_count": 52,
   "metadata": {},
   "outputs": [
    {
     "data": {
      "text/plain": [
       "array([ 4,  5,  6,  7,  8,  9, 10, 11, 12, 13])"
      ]
     },
     "execution_count": 52,
     "metadata": {},
     "output_type": "execute_result"
    }
   ],
   "source": [
    "x+4"
   ]
  },
  {
   "cell_type": "code",
   "execution_count": 53,
   "metadata": {},
   "outputs": [
    {
     "data": {
      "text/plain": [
       "array([ 0,  2,  4,  6,  8, 10, 12, 14, 16, 18])"
      ]
     },
     "execution_count": 53,
     "metadata": {},
     "output_type": "execute_result"
    }
   ],
   "source": [
    "x*2"
   ]
  },
  {
   "cell_type": "code",
   "execution_count": 54,
   "metadata": {},
   "outputs": [],
   "source": [
    "y = x + 5"
   ]
  },
  {
   "cell_type": "code",
   "execution_count": 55,
   "metadata": {},
   "outputs": [
    {
     "data": {
      "text/plain": [
       "array([0, 1, 2, 3, 4, 5, 6, 7, 8, 9])"
      ]
     },
     "execution_count": 55,
     "metadata": {},
     "output_type": "execute_result"
    }
   ],
   "source": [
    "x"
   ]
  },
  {
   "cell_type": "code",
   "execution_count": 56,
   "metadata": {},
   "outputs": [
    {
     "data": {
      "text/plain": [
       "array([ 5,  6,  7,  8,  9, 10, 11, 12, 13, 14])"
      ]
     },
     "execution_count": 56,
     "metadata": {},
     "output_type": "execute_result"
    }
   ],
   "source": [
    "y"
   ]
  },
  {
   "cell_type": "code",
   "execution_count": 57,
   "metadata": {},
   "outputs": [],
   "source": [
    "z = x+y"
   ]
  },
  {
   "cell_type": "code",
   "execution_count": 58,
   "metadata": {},
   "outputs": [
    {
     "data": {
      "text/plain": [
       "array([ 5,  7,  9, 11, 13, 15, 17, 19, 21, 23])"
      ]
     },
     "execution_count": 58,
     "metadata": {},
     "output_type": "execute_result"
    }
   ],
   "source": [
    "z"
   ]
  },
  {
   "cell_type": "code",
   "execution_count": 59,
   "metadata": {},
   "outputs": [
    {
     "data": {
      "text/plain": [
       "array([2.23606798, 2.44948974, 2.64575131, 2.82842712, 3.        ,\n",
       "       3.16227766, 3.31662479, 3.46410162, 3.60555128, 3.74165739])"
      ]
     },
     "execution_count": 59,
     "metadata": {},
     "output_type": "execute_result"
    }
   ],
   "source": [
    "np.sqrt(y)"
   ]
  },
  {
   "cell_type": "code",
   "execution_count": 60,
   "metadata": {},
   "outputs": [],
   "source": [
    "z = x + np.sqrt(y)"
   ]
  },
  {
   "cell_type": "code",
   "execution_count": 61,
   "metadata": {},
   "outputs": [
    {
     "data": {
      "text/plain": [
       "array([ 2.23606798,  3.44948974,  4.64575131,  5.82842712,  7.        ,\n",
       "        8.16227766,  9.31662479, 10.46410162, 11.60555128, 12.74165739])"
      ]
     },
     "execution_count": 61,
     "metadata": {},
     "output_type": "execute_result"
    }
   ],
   "source": [
    "z"
   ]
  },
  {
   "cell_type": "code",
   "execution_count": 62,
   "metadata": {},
   "outputs": [
    {
     "data": {
      "text/plain": [
       "array([0, 1, 2, 3, 4, 5, 6, 7, 8, 9])"
      ]
     },
     "execution_count": 62,
     "metadata": {},
     "output_type": "execute_result"
    }
   ],
   "source": [
    "x"
   ]
  },
  {
   "cell_type": "code",
   "execution_count": 63,
   "metadata": {},
   "outputs": [
    {
     "data": {
      "text/plain": [
       "435.7054487727669"
      ]
     },
     "execution_count": 63,
     "metadata": {},
     "output_type": "execute_result"
    }
   ],
   "source": [
    "np.dot(x,z)"
   ]
  },
  {
   "cell_type": "code",
   "execution_count": 64,
   "metadata": {},
   "outputs": [
    {
     "data": {
      "text/plain": [
       "435.7054487727669"
      ]
     },
     "execution_count": 64,
     "metadata": {},
     "output_type": "execute_result"
    }
   ],
   "source": [
    "x.dot(z)"
   ]
  },
  {
   "cell_type": "code",
   "execution_count": 65,
   "metadata": {},
   "outputs": [
    {
     "data": {
      "text/plain": [
       "435.7054487727669"
      ]
     },
     "execution_count": 65,
     "metadata": {},
     "output_type": "execute_result"
    }
   ],
   "source": [
    "z.dot(x)"
   ]
  },
  {
   "cell_type": "code",
   "execution_count": 66,
   "metadata": {},
   "outputs": [
    {
     "data": {
      "text/plain": [
       "array([ 2.23606798,  3.44948974,  4.64575131,  5.82842712,  7.        ,\n",
       "        8.16227766,  9.31662479, 10.46410162, 11.60555128, 12.74165739])"
      ]
     },
     "execution_count": 66,
     "metadata": {},
     "output_type": "execute_result"
    }
   ],
   "source": [
    "z"
   ]
  },
  {
   "cell_type": "code",
   "execution_count": 67,
   "metadata": {},
   "outputs": [],
   "source": [
    "x += 1"
   ]
  },
  {
   "cell_type": "code",
   "execution_count": 68,
   "metadata": {},
   "outputs": [
    {
     "data": {
      "text/plain": [
       "array([ 1,  2,  3,  4,  5,  6,  7,  8,  9, 10])"
      ]
     },
     "execution_count": 68,
     "metadata": {},
     "output_type": "execute_result"
    }
   ],
   "source": [
    "x"
   ]
  },
  {
   "cell_type": "code",
   "execution_count": 69,
   "metadata": {},
   "outputs": [],
   "source": [
    "x -=1"
   ]
  },
  {
   "cell_type": "code",
   "execution_count": 70,
   "metadata": {},
   "outputs": [
    {
     "data": {
      "text/plain": [
       "array([0, 1, 2, 3, 4, 5, 6, 7, 8, 9])"
      ]
     },
     "execution_count": 70,
     "metadata": {},
     "output_type": "execute_result"
    }
   ],
   "source": [
    "x"
   ]
  },
  {
   "cell_type": "code",
   "execution_count": 71,
   "metadata": {},
   "outputs": [],
   "source": [
    "x *=2"
   ]
  },
  {
   "cell_type": "code",
   "execution_count": 72,
   "metadata": {},
   "outputs": [
    {
     "data": {
      "text/plain": [
       "array([ 0,  2,  4,  6,  8, 10, 12, 14, 16, 18])"
      ]
     },
     "execution_count": 72,
     "metadata": {},
     "output_type": "execute_result"
    }
   ],
   "source": [
    "x"
   ]
  },
  {
   "cell_type": "code",
   "execution_count": 73,
   "metadata": {},
   "outputs": [
    {
     "data": {
      "text/plain": [
       "array([ 2,  4,  6,  8, 10, 12, 14, 16, 18, 20])"
      ]
     },
     "execution_count": 73,
     "metadata": {},
     "output_type": "execute_result"
    }
   ],
   "source": [
    "x + 2"
   ]
  },
  {
   "cell_type": "code",
   "execution_count": 74,
   "metadata": {},
   "outputs": [
    {
     "data": {
      "text/plain": [
       "array([ 0,  2,  4,  6,  8, 10, 12, 14, 16, 18])"
      ]
     },
     "execution_count": 74,
     "metadata": {},
     "output_type": "execute_result"
    }
   ],
   "source": [
    "x"
   ]
  },
  {
   "cell_type": "code",
   "execution_count": 75,
   "metadata": {},
   "outputs": [],
   "source": [
    "y = np.sqrt(x)"
   ]
  },
  {
   "cell_type": "code",
   "execution_count": 76,
   "metadata": {},
   "outputs": [
    {
     "data": {
      "text/plain": [
       "array([0.        , 1.41421356, 2.        , 2.44948974, 2.82842712,\n",
       "       3.16227766, 3.46410162, 3.74165739, 4.        , 4.24264069])"
      ]
     },
     "execution_count": 76,
     "metadata": {},
     "output_type": "execute_result"
    }
   ],
   "source": [
    "y"
   ]
  },
  {
   "cell_type": "code",
   "execution_count": 77,
   "metadata": {},
   "outputs": [
    {
     "data": {
      "text/plain": [
       "array([ 0,  2,  4,  6,  8, 10, 12, 14, 16, 18])"
      ]
     },
     "execution_count": 77,
     "metadata": {},
     "output_type": "execute_result"
    }
   ],
   "source": [
    "x"
   ]
  },
  {
   "cell_type": "code",
   "execution_count": 78,
   "metadata": {},
   "outputs": [
    {
     "data": {
      "text/plain": [
       "array([0.        , 1.09861229, 1.60943791, 1.94591015, 2.19722458,\n",
       "       2.39789527, 2.56494936, 2.7080502 , 2.83321334, 2.94443898])"
      ]
     },
     "execution_count": 78,
     "metadata": {},
     "output_type": "execute_result"
    }
   ],
   "source": [
    "np.log(x+1)"
   ]
  },
  {
   "cell_type": "code",
   "execution_count": 79,
   "metadata": {},
   "outputs": [
    {
     "data": {
      "text/plain": [
       "array([ 0,  2,  4,  6,  8, 10, 12, 14, 16, 18])"
      ]
     },
     "execution_count": 79,
     "metadata": {},
     "output_type": "execute_result"
    }
   ],
   "source": [
    "x"
   ]
  },
  {
   "cell_type": "code",
   "execution_count": 80,
   "metadata": {},
   "outputs": [
    {
     "data": {
      "text/plain": [
       "105"
      ]
     },
     "execution_count": 80,
     "metadata": {},
     "output_type": "execute_result"
    }
   ],
   "source": [
    "a.sum()"
   ]
  },
  {
   "cell_type": "code",
   "execution_count": 81,
   "metadata": {},
   "outputs": [
    {
     "data": {
      "text/plain": [
       "0"
      ]
     },
     "execution_count": 81,
     "metadata": {},
     "output_type": "execute_result"
    }
   ],
   "source": [
    "a.min()"
   ]
  },
  {
   "cell_type": "code",
   "execution_count": 82,
   "metadata": {},
   "outputs": [],
   "source": [
    "x += 1"
   ]
  },
  {
   "cell_type": "code",
   "execution_count": 83,
   "metadata": {},
   "outputs": [
    {
     "data": {
      "text/plain": [
       "array([ 1,  3,  5,  7,  9, 11, 13, 15, 17, 19])"
      ]
     },
     "execution_count": 83,
     "metadata": {},
     "output_type": "execute_result"
    }
   ],
   "source": [
    "x"
   ]
  },
  {
   "cell_type": "code",
   "execution_count": 84,
   "metadata": {},
   "outputs": [
    {
     "data": {
      "text/plain": [
       "1"
      ]
     },
     "execution_count": 84,
     "metadata": {},
     "output_type": "execute_result"
    }
   ],
   "source": [
    "x.min()"
   ]
  },
  {
   "cell_type": "code",
   "execution_count": 85,
   "metadata": {},
   "outputs": [
    {
     "data": {
      "text/plain": [
       "array([ 0.84147098,  0.14112001, -0.95892427,  0.6569866 ,  0.41211849,\n",
       "       -0.99999021,  0.42016704,  0.65028784, -0.96139749,  0.14987721])"
      ]
     },
     "execution_count": 85,
     "metadata": {},
     "output_type": "execute_result"
    }
   ],
   "source": [
    "np.sin(x)"
   ]
  },
  {
   "cell_type": "code",
   "execution_count": 86,
   "metadata": {},
   "outputs": [
    {
     "data": {
      "text/plain": [
       "array([ 0.84147098,  0.14112001, -0.95892427,  0.6569866 ,  0.41211849,\n",
       "       -0.99999021,  0.42016704,  0.65028784, -0.96139749,  0.14987721])"
      ]
     },
     "execution_count": 86,
     "metadata": {},
     "output_type": "execute_result"
    }
   ],
   "source": [
    "np.sin(x)"
   ]
  },
  {
   "cell_type": "code",
   "execution_count": 87,
   "metadata": {},
   "outputs": [
    {
     "data": {
      "text/plain": [
       "array([ 1,  3,  5,  7,  9, 11, 13, 15, 17, 19])"
      ]
     },
     "execution_count": 87,
     "metadata": {},
     "output_type": "execute_result"
    }
   ],
   "source": [
    "x"
   ]
  },
  {
   "cell_type": "code",
   "execution_count": 88,
   "metadata": {},
   "outputs": [
    {
     "data": {
      "text/plain": [
       "19"
      ]
     },
     "execution_count": 88,
     "metadata": {},
     "output_type": "execute_result"
    }
   ],
   "source": [
    "x.max()"
   ]
  },
  {
   "cell_type": "code",
   "execution_count": 89,
   "metadata": {},
   "outputs": [
    {
     "data": {
      "text/plain": [
       "10.0"
      ]
     },
     "execution_count": 89,
     "metadata": {},
     "output_type": "execute_result"
    }
   ],
   "source": [
    "x.mean()"
   ]
  },
  {
   "cell_type": "code",
   "execution_count": 90,
   "metadata": {},
   "outputs": [
    {
     "data": {
      "text/plain": [
       "5.744562646538029"
      ]
     },
     "execution_count": 90,
     "metadata": {},
     "output_type": "execute_result"
    }
   ],
   "source": [
    "x.std()"
   ]
  },
  {
   "cell_type": "code",
   "execution_count": 91,
   "metadata": {},
   "outputs": [],
   "source": [
    "a = np.arange(10,16)"
   ]
  },
  {
   "cell_type": "code",
   "execution_count": 92,
   "metadata": {},
   "outputs": [
    {
     "data": {
      "text/plain": [
       "array([10, 11, 12, 13, 14, 15])"
      ]
     },
     "execution_count": 92,
     "metadata": {},
     "output_type": "execute_result"
    }
   ],
   "source": [
    "a"
   ]
  },
  {
   "cell_type": "code",
   "execution_count": 93,
   "metadata": {},
   "outputs": [
    {
     "data": {
      "text/plain": [
       "10"
      ]
     },
     "execution_count": 93,
     "metadata": {},
     "output_type": "execute_result"
    }
   ],
   "source": [
    "a[0]"
   ]
  },
  {
   "cell_type": "code",
   "execution_count": 94,
   "metadata": {},
   "outputs": [
    {
     "data": {
      "text/plain": [
       "11"
      ]
     },
     "execution_count": 94,
     "metadata": {},
     "output_type": "execute_result"
    }
   ],
   "source": [
    "a[1]"
   ]
  },
  {
   "cell_type": "code",
   "execution_count": 95,
   "metadata": {},
   "outputs": [
    {
     "data": {
      "text/plain": [
       "14"
      ]
     },
     "execution_count": 95,
     "metadata": {},
     "output_type": "execute_result"
    }
   ],
   "source": [
    "a[4]"
   ]
  },
  {
   "cell_type": "code",
   "execution_count": 96,
   "metadata": {},
   "outputs": [
    {
     "data": {
      "text/plain": [
       "15"
      ]
     },
     "execution_count": 96,
     "metadata": {},
     "output_type": "execute_result"
    }
   ],
   "source": [
    "a[-1]"
   ]
  },
  {
   "cell_type": "code",
   "execution_count": 97,
   "metadata": {},
   "outputs": [
    {
     "data": {
      "text/plain": [
       "10"
      ]
     },
     "execution_count": 97,
     "metadata": {},
     "output_type": "execute_result"
    }
   ],
   "source": [
    "a[0]"
   ]
  },
  {
   "cell_type": "code",
   "execution_count": 98,
   "metadata": {},
   "outputs": [
    {
     "data": {
      "text/plain": [
       "array([10, 11, 12, 13, 14, 15])"
      ]
     },
     "execution_count": 98,
     "metadata": {},
     "output_type": "execute_result"
    }
   ],
   "source": [
    "a"
   ]
  },
  {
   "cell_type": "code",
   "execution_count": 99,
   "metadata": {},
   "outputs": [],
   "source": [
    "a = np.arange(10)"
   ]
  },
  {
   "cell_type": "code",
   "execution_count": 100,
   "metadata": {},
   "outputs": [
    {
     "data": {
      "text/plain": [
       "array([0, 1, 2, 3, 4, 5, 6, 7, 8, 9])"
      ]
     },
     "execution_count": 100,
     "metadata": {},
     "output_type": "execute_result"
    }
   ],
   "source": [
    "a"
   ]
  },
  {
   "cell_type": "code",
   "execution_count": 101,
   "metadata": {},
   "outputs": [],
   "source": [
    "a = np.sqrt(a)"
   ]
  },
  {
   "cell_type": "code",
   "execution_count": 102,
   "metadata": {},
   "outputs": [
    {
     "data": {
      "text/plain": [
       "array([0.        , 1.        , 1.41421356, 1.73205081, 2.        ,\n",
       "       2.23606798, 2.44948974, 2.64575131, 2.82842712, 3.        ])"
      ]
     },
     "execution_count": 102,
     "metadata": {},
     "output_type": "execute_result"
    }
   ],
   "source": [
    "a"
   ]
  },
  {
   "cell_type": "code",
   "execution_count": 103,
   "metadata": {},
   "outputs": [],
   "source": [
    "a = np.arange(87)"
   ]
  },
  {
   "cell_type": "code",
   "execution_count": 104,
   "metadata": {},
   "outputs": [
    {
     "data": {
      "text/plain": [
       "array([ 0,  1,  2,  3,  4,  5,  6,  7,  8,  9, 10, 11, 12, 13, 14, 15, 16,\n",
       "       17, 18, 19, 20, 21, 22, 23, 24, 25, 26, 27, 28, 29, 30, 31, 32, 33,\n",
       "       34, 35, 36, 37, 38, 39, 40, 41, 42, 43, 44, 45, 46, 47, 48, 49, 50,\n",
       "       51, 52, 53, 54, 55, 56, 57, 58, 59, 60, 61, 62, 63, 64, 65, 66, 67,\n",
       "       68, 69, 70, 71, 72, 73, 74, 75, 76, 77, 78, 79, 80, 81, 82, 83, 84,\n",
       "       85, 86])"
      ]
     },
     "execution_count": 104,
     "metadata": {},
     "output_type": "execute_result"
    }
   ],
   "source": [
    "a"
   ]
  },
  {
   "cell_type": "code",
   "execution_count": 105,
   "metadata": {},
   "outputs": [
    {
     "data": {
      "text/plain": [
       "86"
      ]
     },
     "execution_count": 105,
     "metadata": {},
     "output_type": "execute_result"
    }
   ],
   "source": [
    "a[-1]"
   ]
  },
  {
   "cell_type": "code",
   "execution_count": 106,
   "metadata": {},
   "outputs": [
    {
     "data": {
      "text/plain": [
       "85"
      ]
     },
     "execution_count": 106,
     "metadata": {},
     "output_type": "execute_result"
    }
   ],
   "source": [
    "a[-2]"
   ]
  },
  {
   "cell_type": "code",
   "execution_count": 107,
   "metadata": {},
   "outputs": [
    {
     "data": {
      "text/plain": [
       "array([1, 3, 4])"
      ]
     },
     "execution_count": 107,
     "metadata": {},
     "output_type": "execute_result"
    }
   ],
   "source": [
    "a[[1,3,4]]"
   ]
  },
  {
   "cell_type": "code",
   "execution_count": 108,
   "metadata": {},
   "outputs": [
    {
     "data": {
      "text/plain": [
       "array([ 0, 86])"
      ]
     },
     "execution_count": 108,
     "metadata": {},
     "output_type": "execute_result"
    }
   ],
   "source": [
    "a[[0,-1]]"
   ]
  },
  {
   "cell_type": "code",
   "execution_count": 109,
   "metadata": {},
   "outputs": [
    {
     "data": {
      "text/plain": [
       "array([11, 13, 85])"
      ]
     },
     "execution_count": 109,
     "metadata": {},
     "output_type": "execute_result"
    }
   ],
   "source": [
    "a[[11,13,-2]]"
   ]
  },
  {
   "cell_type": "code",
   "execution_count": 110,
   "metadata": {},
   "outputs": [
    {
     "data": {
      "text/plain": [
       "array([11, 13, 86])"
      ]
     },
     "execution_count": 110,
     "metadata": {},
     "output_type": "execute_result"
    }
   ],
   "source": [
    "a[[11,13,-1]]"
   ]
  },
  {
   "cell_type": "code",
   "execution_count": 111,
   "metadata": {},
   "outputs": [
    {
     "data": {
      "text/plain": [
       "array([11, 13, 85, 86])"
      ]
     },
     "execution_count": 111,
     "metadata": {},
     "output_type": "execute_result"
    }
   ],
   "source": [
    "a[[11,13,-2,86]]"
   ]
  },
  {
   "cell_type": "code",
   "execution_count": 112,
   "metadata": {},
   "outputs": [],
   "source": [
    "a = np.arange(9).reshape(3,3)"
   ]
  },
  {
   "cell_type": "code",
   "execution_count": 113,
   "metadata": {},
   "outputs": [
    {
     "data": {
      "text/plain": [
       "array([[0, 1, 2],\n",
       "       [3, 4, 5],\n",
       "       [6, 7, 8]])"
      ]
     },
     "execution_count": 113,
     "metadata": {},
     "output_type": "execute_result"
    }
   ],
   "source": [
    "a"
   ]
  },
  {
   "cell_type": "code",
   "execution_count": 114,
   "metadata": {},
   "outputs": [
    {
     "data": {
      "text/plain": [
       "5"
      ]
     },
     "execution_count": 114,
     "metadata": {},
     "output_type": "execute_result"
    }
   ],
   "source": [
    "a[1,2]"
   ]
  },
  {
   "cell_type": "code",
   "execution_count": 115,
   "metadata": {},
   "outputs": [
    {
     "data": {
      "text/plain": [
       "array([[0, 1, 2],\n",
       "       [3, 4, 5],\n",
       "       [6, 7, 8]])"
      ]
     },
     "execution_count": 115,
     "metadata": {},
     "output_type": "execute_result"
    }
   ],
   "source": [
    "a"
   ]
  },
  {
   "cell_type": "code",
   "execution_count": 116,
   "metadata": {},
   "outputs": [
    {
     "data": {
      "text/plain": [
       "8"
      ]
     },
     "execution_count": 116,
     "metadata": {},
     "output_type": "execute_result"
    }
   ],
   "source": [
    "a[2,2]"
   ]
  },
  {
   "cell_type": "code",
   "execution_count": 117,
   "metadata": {},
   "outputs": [
    {
     "data": {
      "text/plain": [
       "0"
      ]
     },
     "execution_count": 117,
     "metadata": {},
     "output_type": "execute_result"
    }
   ],
   "source": [
    "a[0,0]"
   ]
  },
  {
   "cell_type": "code",
   "execution_count": 118,
   "metadata": {},
   "outputs": [
    {
     "data": {
      "text/plain": [
       "4"
      ]
     },
     "execution_count": 118,
     "metadata": {},
     "output_type": "execute_result"
    }
   ],
   "source": [
    "a[1,1]"
   ]
  },
  {
   "cell_type": "code",
   "execution_count": 119,
   "metadata": {},
   "outputs": [
    {
     "ename": "IndexError",
     "evalue": "index 11 is out of bounds for axis 0 with size 3",
     "output_type": "error",
     "traceback": [
      "\u001b[0;31m---------------------------------------------------------------------------\u001b[0m",
      "\u001b[0;31mIndexError\u001b[0m                                Traceback (most recent call last)",
      "\u001b[0;32m<ipython-input-119-f1aa1dfc5ed8>\u001b[0m in \u001b[0;36m<module>\u001b[0;34m()\u001b[0m\n\u001b[0;32m----> 1\u001b[0;31m \u001b[0ma\u001b[0m\u001b[0;34m[\u001b[0m\u001b[0;36m11\u001b[0m\u001b[0;34m]\u001b[0m\u001b[0;34m\u001b[0m\u001b[0m\n\u001b[0m",
      "\u001b[0;31mIndexError\u001b[0m: index 11 is out of bounds for axis 0 with size 3"
     ]
    }
   ],
   "source": [
    "a[11]"
   ]
  },
  {
   "cell_type": "code",
   "execution_count": null,
   "metadata": {},
   "outputs": [],
   "source": [
    "a[1]"
   ]
  },
  {
   "cell_type": "code",
   "execution_count": null,
   "metadata": {},
   "outputs": [],
   "source": [
    "a[0]"
   ]
  },
  {
   "cell_type": "code",
   "execution_count": null,
   "metadata": {},
   "outputs": [],
   "source": [
    "a = np.arange(16)"
   ]
  },
  {
   "cell_type": "code",
   "execution_count": null,
   "metadata": {},
   "outputs": [],
   "source": [
    "a"
   ]
  },
  {
   "cell_type": "code",
   "execution_count": null,
   "metadata": {},
   "outputs": [],
   "source": [
    "a[[6,7,8,9,10]]"
   ]
  },
  {
   "cell_type": "code",
   "execution_count": null,
   "metadata": {},
   "outputs": [],
   "source": [
    "a  = np.arange(99)"
   ]
  },
  {
   "cell_type": "code",
   "execution_count": null,
   "metadata": {},
   "outputs": [],
   "source": [
    "a"
   ]
  },
  {
   "cell_type": "code",
   "execution_count": null,
   "metadata": {},
   "outputs": [],
   "source": [
    "a[22:88]"
   ]
  },
  {
   "cell_type": "code",
   "execution_count": null,
   "metadata": {},
   "outputs": [],
   "source": [
    "a += 1"
   ]
  },
  {
   "cell_type": "code",
   "execution_count": null,
   "metadata": {},
   "outputs": [],
   "source": [
    "a"
   ]
  },
  {
   "cell_type": "code",
   "execution_count": null,
   "metadata": {},
   "outputs": [],
   "source": [
    "a[22:88]"
   ]
  },
  {
   "cell_type": "code",
   "execution_count": null,
   "metadata": {},
   "outputs": [],
   "source": [
    "a[22:88:92]"
   ]
  },
  {
   "cell_type": "code",
   "execution_count": null,
   "metadata": {},
   "outputs": [],
   "source": [
    "a[22:88:2]"
   ]
  },
  {
   "cell_type": "code",
   "execution_count": null,
   "metadata": {},
   "outputs": [],
   "source": [
    "a[22:88:1]"
   ]
  },
  {
   "cell_type": "code",
   "execution_count": null,
   "metadata": {},
   "outputs": [],
   "source": [
    "a[22:88:-1]"
   ]
  },
  {
   "cell_type": "code",
   "execution_count": null,
   "metadata": {},
   "outputs": [],
   "source": [
    "a[22:88:1]"
   ]
  },
  {
   "cell_type": "code",
   "execution_count": null,
   "metadata": {},
   "outputs": [],
   "source": [
    "a[22:88:2]"
   ]
  },
  {
   "cell_type": "code",
   "execution_count": null,
   "metadata": {},
   "outputs": [],
   "source": [
    "a[22:88:3]"
   ]
  },
  {
   "cell_type": "code",
   "execution_count": null,
   "metadata": {},
   "outputs": [],
   "source": [
    "a[22:88:10]"
   ]
  },
  {
   "cell_type": "code",
   "execution_count": null,
   "metadata": {},
   "outputs": [],
   "source": [
    "a = np.arange(100,200)"
   ]
  },
  {
   "cell_type": "code",
   "execution_count": null,
   "metadata": {},
   "outputs": [],
   "source": [
    "a"
   ]
  },
  {
   "cell_type": "code",
   "execution_count": null,
   "metadata": {},
   "outputs": [],
   "source": [
    "a[22:88:10]"
   ]
  },
  {
   "cell_type": "code",
   "execution_count": null,
   "metadata": {},
   "outputs": [],
   "source": [
    "a[22:88:-1]"
   ]
  },
  {
   "cell_type": "code",
   "execution_count": null,
   "metadata": {},
   "outputs": [],
   "source": [
    "a[88:22:-1]"
   ]
  },
  {
   "cell_type": "code",
   "execution_count": null,
   "metadata": {},
   "outputs": [],
   "source": [
    "a[::1]"
   ]
  },
  {
   "cell_type": "code",
   "execution_count": null,
   "metadata": {},
   "outputs": [],
   "source": [
    "a[::2]"
   ]
  },
  {
   "cell_type": "code",
   "execution_count": null,
   "metadata": {},
   "outputs": [],
   "source": [
    "a[:5:]"
   ]
  },
  {
   "cell_type": "code",
   "execution_count": null,
   "metadata": {},
   "outputs": [],
   "source": [
    "a = np.arange(10,19).reshape(3,3)"
   ]
  },
  {
   "cell_type": "code",
   "execution_count": null,
   "metadata": {},
   "outputs": [],
   "source": [
    "a"
   ]
  },
  {
   "cell_type": "code",
   "execution_count": null,
   "metadata": {},
   "outputs": [],
   "source": [
    "a[0]"
   ]
  },
  {
   "cell_type": "code",
   "execution_count": null,
   "metadata": {},
   "outputs": [],
   "source": [
    "a[1]"
   ]
  },
  {
   "cell_type": "code",
   "execution_count": null,
   "metadata": {},
   "outputs": [],
   "source": [
    "a[2]"
   ]
  },
  {
   "cell_type": "code",
   "execution_count": null,
   "metadata": {},
   "outputs": [],
   "source": [
    "a[0,:]"
   ]
  },
  {
   "cell_type": "code",
   "execution_count": null,
   "metadata": {},
   "outputs": [],
   "source": [
    "a[:,0]"
   ]
  },
  {
   "cell_type": "code",
   "execution_count": null,
   "metadata": {},
   "outputs": [],
   "source": [
    "a[:,1]"
   ]
  },
  {
   "cell_type": "code",
   "execution_count": null,
   "metadata": {},
   "outputs": [],
   "source": [
    "a"
   ]
  },
  {
   "cell_type": "code",
   "execution_count": null,
   "metadata": {},
   "outputs": [],
   "source": [
    "a[0:1,0:1]"
   ]
  },
  {
   "cell_type": "code",
   "execution_count": null,
   "metadata": {},
   "outputs": [],
   "source": [
    "a[0:1,0:2]"
   ]
  },
  {
   "cell_type": "code",
   "execution_count": null,
   "metadata": {},
   "outputs": [],
   "source": [
    "a[0:2,0:2]"
   ]
  },
  {
   "cell_type": "code",
   "execution_count": null,
   "metadata": {},
   "outputs": [],
   "source": [
    "a[[0,2],0:2]"
   ]
  },
  {
   "cell_type": "code",
   "execution_count": null,
   "metadata": {},
   "outputs": [],
   "source": [
    "a"
   ]
  },
  {
   "cell_type": "code",
   "execution_count": null,
   "metadata": {},
   "outputs": [],
   "source": [
    "for i in a :\n",
    "    print(i)\n",
    "    print(\"---\")"
   ]
  },
  {
   "cell_type": "code",
   "execution_count": null,
   "metadata": {},
   "outputs": [],
   "source": [
    "a.flat"
   ]
  },
  {
   "cell_type": "code",
   "execution_count": null,
   "metadata": {},
   "outputs": [],
   "source": [
    "for item in a.flat:\n",
    "    print(item)\n",
    "    print(\"-----\")"
   ]
  },
  {
   "cell_type": "code",
   "execution_count": 120,
   "metadata": {},
   "outputs": [
    {
     "data": {
      "text/plain": [
       "array([[0, 1, 2],\n",
       "       [3, 4, 5],\n",
       "       [6, 7, 8]])"
      ]
     },
     "execution_count": 120,
     "metadata": {},
     "output_type": "execute_result"
    }
   ],
   "source": [
    "a"
   ]
  },
  {
   "cell_type": "code",
   "execution_count": 121,
   "metadata": {},
   "outputs": [
    {
     "data": {
      "text/plain": [
       "array([3., 4., 5.])"
      ]
     },
     "execution_count": 121,
     "metadata": {},
     "output_type": "execute_result"
    }
   ],
   "source": [
    "np.apply_along_axis(np.mean,axis=0,arr=a)"
   ]
  },
  {
   "cell_type": "code",
   "execution_count": 122,
   "metadata": {},
   "outputs": [
    {
     "data": {
      "text/plain": [
       "array([1., 4., 7.])"
      ]
     },
     "execution_count": 122,
     "metadata": {},
     "output_type": "execute_result"
    }
   ],
   "source": [
    "np.apply_along_axis(np.mean,axis=1,arr=a)"
   ]
  },
  {
   "cell_type": "code",
   "execution_count": 123,
   "metadata": {},
   "outputs": [],
   "source": [
    "def halfOfValue(x):\n",
    "    return x/2\n"
   ]
  },
  {
   "cell_type": "code",
   "execution_count": 124,
   "metadata": {},
   "outputs": [
    {
     "data": {
      "text/plain": [
       "array([[0. , 0.5, 1. ],\n",
       "       [1.5, 2. , 2.5],\n",
       "       [3. , 3.5, 4. ]])"
      ]
     },
     "execution_count": 124,
     "metadata": {},
     "output_type": "execute_result"
    }
   ],
   "source": [
    "np.apply_along_axis(halfOfValue,axis=0,arr=a)"
   ]
  },
  {
   "cell_type": "code",
   "execution_count": 125,
   "metadata": {},
   "outputs": [
    {
     "data": {
      "text/plain": [
       "array([[0. , 0.5, 1. ],\n",
       "       [1.5, 2. , 2.5],\n",
       "       [3. , 3.5, 4. ]])"
      ]
     },
     "execution_count": 125,
     "metadata": {},
     "output_type": "execute_result"
    }
   ],
   "source": [
    "np.apply_along_axis(halfOfValue,axis=1,arr=a)"
   ]
  },
  {
   "cell_type": "code",
   "execution_count": 126,
   "metadata": {},
   "outputs": [],
   "source": [
    "def doubleOfValue(x):\n",
    "    return 2*x\n"
   ]
  },
  {
   "cell_type": "code",
   "execution_count": 127,
   "metadata": {},
   "outputs": [
    {
     "data": {
      "text/plain": [
       "array([[ 0,  2,  4],\n",
       "       [ 6,  8, 10],\n",
       "       [12, 14, 16]])"
      ]
     },
     "execution_count": 127,
     "metadata": {},
     "output_type": "execute_result"
    }
   ],
   "source": [
    "np.apply_along_axis(doubleOfValue,axis=1,arr=a)"
   ]
  },
  {
   "cell_type": "code",
   "execution_count": 128,
   "metadata": {},
   "outputs": [
    {
     "data": {
      "text/plain": [
       "array([[0, 1, 2],\n",
       "       [3, 4, 5],\n",
       "       [6, 7, 8]])"
      ]
     },
     "execution_count": 128,
     "metadata": {},
     "output_type": "execute_result"
    }
   ],
   "source": [
    "a"
   ]
  },
  {
   "cell_type": "code",
   "execution_count": 129,
   "metadata": {},
   "outputs": [],
   "source": [
    "def substractOne(x):\n",
    "    return x-1"
   ]
  },
  {
   "cell_type": "code",
   "execution_count": 130,
   "metadata": {},
   "outputs": [
    {
     "data": {
      "text/plain": [
       "array([[-1,  0,  1],\n",
       "       [ 2,  3,  4],\n",
       "       [ 5,  6,  7]])"
      ]
     },
     "execution_count": 130,
     "metadata": {},
     "output_type": "execute_result"
    }
   ],
   "source": [
    "np.apply_along_axis(substractOne,axis=0,arr=a)"
   ]
  },
  {
   "cell_type": "code",
   "execution_count": 131,
   "metadata": {},
   "outputs": [
    {
     "data": {
      "text/plain": [
       "array([[0, 1, 2],\n",
       "       [3, 4, 5],\n",
       "       [6, 7, 8]])"
      ]
     },
     "execution_count": 131,
     "metadata": {},
     "output_type": "execute_result"
    }
   ],
   "source": [
    "a"
   ]
  },
  {
   "cell_type": "code",
   "execution_count": 132,
   "metadata": {},
   "outputs": [
    {
     "data": {
      "text/plain": [
       "array([0, 1, 2])"
      ]
     },
     "execution_count": 132,
     "metadata": {},
     "output_type": "execute_result"
    }
   ],
   "source": [
    "a[0]"
   ]
  },
  {
   "cell_type": "code",
   "execution_count": 133,
   "metadata": {},
   "outputs": [],
   "source": [
    "a = np.random.random((4,4))"
   ]
  },
  {
   "cell_type": "code",
   "execution_count": 134,
   "metadata": {},
   "outputs": [
    {
     "data": {
      "text/plain": [
       "array([[0.92901327, 0.71094459, 0.01735287, 0.37693376],\n",
       "       [0.47271295, 0.91222211, 0.84010164, 0.66262554],\n",
       "       [0.36204628, 0.81077851, 0.75791578, 0.99341958],\n",
       "       [0.02372879, 0.24247506, 0.59590525, 0.20643598]])"
      ]
     },
     "execution_count": 134,
     "metadata": {},
     "output_type": "execute_result"
    }
   ],
   "source": [
    "a"
   ]
  },
  {
   "cell_type": "code",
   "execution_count": 135,
   "metadata": {},
   "outputs": [
    {
     "data": {
      "text/plain": [
       "array([[False, False,  True,  True],\n",
       "       [ True, False, False, False],\n",
       "       [ True, False, False, False],\n",
       "       [ True,  True, False,  True]])"
      ]
     },
     "execution_count": 135,
     "metadata": {},
     "output_type": "execute_result"
    }
   ],
   "source": [
    "a < 0.5"
   ]
  },
  {
   "cell_type": "code",
   "execution_count": 136,
   "metadata": {},
   "outputs": [],
   "source": [
    "b = a < 0.5"
   ]
  },
  {
   "cell_type": "code",
   "execution_count": 137,
   "metadata": {},
   "outputs": [
    {
     "data": {
      "text/plain": [
       "array([[False, False,  True,  True],\n",
       "       [ True, False, False, False],\n",
       "       [ True, False, False, False],\n",
       "       [ True,  True, False,  True]])"
      ]
     },
     "execution_count": 137,
     "metadata": {},
     "output_type": "execute_result"
    }
   ],
   "source": [
    "b"
   ]
  },
  {
   "cell_type": "code",
   "execution_count": 138,
   "metadata": {},
   "outputs": [],
   "source": [
    "c = a > 0.6"
   ]
  },
  {
   "cell_type": "code",
   "execution_count": 139,
   "metadata": {},
   "outputs": [
    {
     "data": {
      "text/plain": [
       "array([[ True,  True, False, False],\n",
       "       [False,  True,  True,  True],\n",
       "       [False,  True,  True,  True],\n",
       "       [False, False, False, False]])"
      ]
     },
     "execution_count": 139,
     "metadata": {},
     "output_type": "execute_result"
    }
   ],
   "source": [
    "c"
   ]
  },
  {
   "cell_type": "code",
   "execution_count": 140,
   "metadata": {},
   "outputs": [
    {
     "data": {
      "text/plain": [
       "dtype('bool')"
      ]
     },
     "execution_count": 140,
     "metadata": {},
     "output_type": "execute_result"
    }
   ],
   "source": [
    "c.dtype"
   ]
  },
  {
   "cell_type": "code",
   "execution_count": 141,
   "metadata": {},
   "outputs": [],
   "source": [
    "b = a[a < 0.5]"
   ]
  },
  {
   "cell_type": "code",
   "execution_count": 142,
   "metadata": {},
   "outputs": [
    {
     "data": {
      "text/plain": [
       "array([0.01735287, 0.37693376, 0.47271295, 0.36204628, 0.02372879,\n",
       "       0.24247506, 0.20643598])"
      ]
     },
     "execution_count": 142,
     "metadata": {},
     "output_type": "execute_result"
    }
   ],
   "source": [
    "b"
   ]
  },
  {
   "cell_type": "code",
   "execution_count": 143,
   "metadata": {},
   "outputs": [
    {
     "data": {
      "text/plain": [
       "array([[0.92901327, 0.71094459, 0.01735287, 0.37693376],\n",
       "       [0.47271295, 0.91222211, 0.84010164, 0.66262554],\n",
       "       [0.36204628, 0.81077851, 0.75791578, 0.99341958],\n",
       "       [0.02372879, 0.24247506, 0.59590525, 0.20643598]])"
      ]
     },
     "execution_count": 143,
     "metadata": {},
     "output_type": "execute_result"
    }
   ],
   "source": [
    "a"
   ]
  },
  {
   "cell_type": "code",
   "execution_count": 144,
   "metadata": {},
   "outputs": [],
   "source": [
    "b = a[a > 0.5]"
   ]
  },
  {
   "cell_type": "code",
   "execution_count": 145,
   "metadata": {},
   "outputs": [
    {
     "data": {
      "text/plain": [
       "array([0.92901327, 0.71094459, 0.91222211, 0.84010164, 0.66262554,\n",
       "       0.81077851, 0.75791578, 0.99341958, 0.59590525])"
      ]
     },
     "execution_count": 145,
     "metadata": {},
     "output_type": "execute_result"
    }
   ],
   "source": [
    "b"
   ]
  },
  {
   "cell_type": "code",
   "execution_count": 158,
   "metadata": {},
   "outputs": [],
   "source": [
    "a = np.random.random((4,4))"
   ]
  },
  {
   "cell_type": "code",
   "execution_count": 159,
   "metadata": {},
   "outputs": [
    {
     "data": {
      "text/plain": [
       "array([0.78012206, 0.93674955, 0.78827182, 0.83340097, 0.53666861,\n",
       "       0.50595173])"
      ]
     },
     "execution_count": 159,
     "metadata": {},
     "output_type": "execute_result"
    }
   ],
   "source": [
    "b"
   ]
  },
  {
   "cell_type": "code",
   "execution_count": 160,
   "metadata": {},
   "outputs": [
    {
     "data": {
      "text/plain": [
       "array([[0.79078663, 0.49505892, 0.20818806, 0.06264601],\n",
       "       [0.63364027, 0.81413481, 0.63902849, 0.14494608],\n",
       "       [0.42091761, 0.15305952, 0.7812497 , 0.74273315],\n",
       "       [0.75385417, 0.2668867 , 0.72342004, 0.31139823]])"
      ]
     },
     "execution_count": 160,
     "metadata": {},
     "output_type": "execute_result"
    }
   ],
   "source": [
    "a"
   ]
  },
  {
   "cell_type": "code",
   "execution_count": 154,
   "metadata": {},
   "outputs": [],
   "source": [
    "b = a[a > 0.5]"
   ]
  },
  {
   "cell_type": "code",
   "execution_count": 167,
   "metadata": {},
   "outputs": [
    {
     "data": {
      "text/plain": [
       "array([[0.09174265, 0.89005504, 0.74979389, 0.28681598, 0.94090523,\n",
       "        0.96400068],\n",
       "       [0.23659126, 0.04740352, 0.06892495, 0.7434043 , 0.11450833,\n",
       "        0.07771495]])"
      ]
     },
     "execution_count": 167,
     "metadata": {},
     "output_type": "execute_result"
    }
   ],
   "source": [
    "a"
   ]
  },
  {
   "cell_type": "code",
   "execution_count": 156,
   "metadata": {},
   "outputs": [
    {
     "data": {
      "text/plain": [
       "array([0.78012206, 0.93674955, 0.78827182, 0.83340097, 0.53666861,\n",
       "       0.50595173])"
      ]
     },
     "execution_count": 156,
     "metadata": {},
     "output_type": "execute_result"
    }
   ],
   "source": [
    "b"
   ]
  },
  {
   "cell_type": "code",
   "execution_count": 161,
   "metadata": {},
   "outputs": [],
   "source": [
    "a = np.random.random(12)"
   ]
  },
  {
   "cell_type": "code",
   "execution_count": 162,
   "metadata": {},
   "outputs": [
    {
     "data": {
      "text/plain": [
       "array([0.09174265, 0.89005504, 0.74979389, 0.28681598, 0.94090523,\n",
       "       0.96400068, 0.23659126, 0.04740352, 0.06892495, 0.7434043 ,\n",
       "       0.11450833, 0.07771495])"
      ]
     },
     "execution_count": 162,
     "metadata": {},
     "output_type": "execute_result"
    }
   ],
   "source": [
    "a"
   ]
  },
  {
   "cell_type": "code",
   "execution_count": 165,
   "metadata": {},
   "outputs": [],
   "source": [
    "a = a.reshape(2,6)"
   ]
  },
  {
   "cell_type": "code",
   "execution_count": 166,
   "metadata": {},
   "outputs": [
    {
     "data": {
      "text/plain": [
       "array([[0.09174265, 0.89005504, 0.74979389, 0.28681598, 0.94090523,\n",
       "        0.96400068],\n",
       "       [0.23659126, 0.04740352, 0.06892495, 0.7434043 , 0.11450833,\n",
       "        0.07771495]])"
      ]
     },
     "execution_count": 166,
     "metadata": {},
     "output_type": "execute_result"
    }
   ],
   "source": [
    "a"
   ]
  },
  {
   "cell_type": "code",
   "execution_count": 169,
   "metadata": {},
   "outputs": [],
   "source": [
    "a.shape = (3,4)"
   ]
  },
  {
   "cell_type": "code",
   "execution_count": 170,
   "metadata": {},
   "outputs": [
    {
     "data": {
      "text/plain": [
       "array([[0.09174265, 0.89005504, 0.74979389, 0.28681598],\n",
       "       [0.94090523, 0.96400068, 0.23659126, 0.04740352],\n",
       "       [0.06892495, 0.7434043 , 0.11450833, 0.07771495]])"
      ]
     },
     "execution_count": 170,
     "metadata": {},
     "output_type": "execute_result"
    }
   ],
   "source": [
    "a"
   ]
  },
  {
   "cell_type": "code",
   "execution_count": 171,
   "metadata": {},
   "outputs": [
    {
     "data": {
      "text/plain": [
       "array([[0.09174265, 0.89005504, 0.74979389, 0.28681598],\n",
       "       [0.94090523, 0.96400068, 0.23659126, 0.04740352],\n",
       "       [0.06892495, 0.7434043 , 0.11450833, 0.07771495]])"
      ]
     },
     "execution_count": 171,
     "metadata": {},
     "output_type": "execute_result"
    }
   ],
   "source": [
    "a"
   ]
  },
  {
   "cell_type": "code",
   "execution_count": 172,
   "metadata": {},
   "outputs": [
    {
     "data": {
      "text/plain": [
       "array([0.09174265, 0.89005504, 0.74979389, 0.28681598, 0.94090523,\n",
       "       0.96400068, 0.23659126, 0.04740352, 0.06892495, 0.7434043 ,\n",
       "       0.11450833, 0.07771495])"
      ]
     },
     "execution_count": 172,
     "metadata": {},
     "output_type": "execute_result"
    }
   ],
   "source": [
    "a.ravel()"
   ]
  },
  {
   "cell_type": "code",
   "execution_count": 173,
   "metadata": {},
   "outputs": [],
   "source": [
    "b = a"
   ]
  },
  {
   "cell_type": "code",
   "execution_count": 174,
   "metadata": {},
   "outputs": [
    {
     "data": {
      "text/plain": [
       "array([[0.09174265, 0.89005504, 0.74979389, 0.28681598],\n",
       "       [0.94090523, 0.96400068, 0.23659126, 0.04740352],\n",
       "       [0.06892495, 0.7434043 , 0.11450833, 0.07771495]])"
      ]
     },
     "execution_count": 174,
     "metadata": {},
     "output_type": "execute_result"
    }
   ],
   "source": [
    "b"
   ]
  },
  {
   "cell_type": "code",
   "execution_count": 175,
   "metadata": {},
   "outputs": [],
   "source": [
    "b.shape = (12)"
   ]
  },
  {
   "cell_type": "code",
   "execution_count": 176,
   "metadata": {},
   "outputs": [
    {
     "data": {
      "text/plain": [
       "array([0.09174265, 0.89005504, 0.74979389, 0.28681598, 0.94090523,\n",
       "       0.96400068, 0.23659126, 0.04740352, 0.06892495, 0.7434043 ,\n",
       "       0.11450833, 0.07771495])"
      ]
     },
     "execution_count": 176,
     "metadata": {},
     "output_type": "execute_result"
    }
   ],
   "source": [
    "b"
   ]
  },
  {
   "cell_type": "code",
   "execution_count": 177,
   "metadata": {},
   "outputs": [
    {
     "data": {
      "text/plain": [
       "array([0.09174265, 0.89005504, 0.74979389, 0.28681598, 0.94090523,\n",
       "       0.96400068, 0.23659126, 0.04740352, 0.06892495, 0.7434043 ,\n",
       "       0.11450833, 0.07771495])"
      ]
     },
     "execution_count": 177,
     "metadata": {},
     "output_type": "execute_result"
    }
   ],
   "source": [
    "a"
   ]
  },
  {
   "cell_type": "code",
   "execution_count": 178,
   "metadata": {},
   "outputs": [
    {
     "data": {
      "text/plain": [
       "array([0.09174265, 0.89005504, 0.74979389, 0.28681598, 0.94090523,\n",
       "       0.96400068, 0.23659126, 0.04740352, 0.06892495, 0.7434043 ,\n",
       "       0.11450833, 0.07771495])"
      ]
     },
     "execution_count": 178,
     "metadata": {},
     "output_type": "execute_result"
    }
   ],
   "source": [
    "a.transpose()"
   ]
  },
  {
   "cell_type": "code",
   "execution_count": 179,
   "metadata": {},
   "outputs": [],
   "source": [
    "a.shape = (2,6)"
   ]
  },
  {
   "cell_type": "code",
   "execution_count": 180,
   "metadata": {},
   "outputs": [
    {
     "data": {
      "text/plain": [
       "array([[0.09174265, 0.89005504, 0.74979389, 0.28681598, 0.94090523,\n",
       "        0.96400068],\n",
       "       [0.23659126, 0.04740352, 0.06892495, 0.7434043 , 0.11450833,\n",
       "        0.07771495]])"
      ]
     },
     "execution_count": 180,
     "metadata": {},
     "output_type": "execute_result"
    }
   ],
   "source": [
    "a"
   ]
  },
  {
   "cell_type": "code",
   "execution_count": 183,
   "metadata": {},
   "outputs": [],
   "source": [
    "b = a.transpose()"
   ]
  },
  {
   "cell_type": "code",
   "execution_count": 184,
   "metadata": {},
   "outputs": [
    {
     "data": {
      "text/plain": [
       "array([[0.09174265, 0.89005504, 0.74979389, 0.28681598, 0.94090523,\n",
       "        0.96400068],\n",
       "       [0.23659126, 0.04740352, 0.06892495, 0.7434043 , 0.11450833,\n",
       "        0.07771495]])"
      ]
     },
     "execution_count": 184,
     "metadata": {},
     "output_type": "execute_result"
    }
   ],
   "source": [
    "a"
   ]
  },
  {
   "cell_type": "code",
   "execution_count": 185,
   "metadata": {},
   "outputs": [
    {
     "data": {
      "text/plain": [
       "array([[0.09174265, 0.23659126],\n",
       "       [0.89005504, 0.04740352],\n",
       "       [0.74979389, 0.06892495],\n",
       "       [0.28681598, 0.7434043 ],\n",
       "       [0.94090523, 0.11450833],\n",
       "       [0.96400068, 0.07771495]])"
      ]
     },
     "execution_count": 185,
     "metadata": {},
     "output_type": "execute_result"
    }
   ],
   "source": [
    "b"
   ]
  },
  {
   "cell_type": "code",
   "execution_count": 186,
   "metadata": {},
   "outputs": [],
   "source": [
    "a = np.ones((3,3))"
   ]
  },
  {
   "cell_type": "code",
   "execution_count": 187,
   "metadata": {},
   "outputs": [
    {
     "data": {
      "text/plain": [
       "array([[1., 1., 1.],\n",
       "       [1., 1., 1.],\n",
       "       [1., 1., 1.]])"
      ]
     },
     "execution_count": 187,
     "metadata": {},
     "output_type": "execute_result"
    }
   ],
   "source": [
    "a"
   ]
  },
  {
   "cell_type": "code",
   "execution_count": 188,
   "metadata": {},
   "outputs": [],
   "source": [
    "b = np.zeros((3,3))"
   ]
  },
  {
   "cell_type": "code",
   "execution_count": 189,
   "metadata": {},
   "outputs": [
    {
     "data": {
      "text/plain": [
       "array([[0., 0., 0.],\n",
       "       [0., 0., 0.],\n",
       "       [0., 0., 0.]])"
      ]
     },
     "execution_count": 189,
     "metadata": {},
     "output_type": "execute_result"
    }
   ],
   "source": [
    "b"
   ]
  },
  {
   "cell_type": "code",
   "execution_count": 190,
   "metadata": {},
   "outputs": [
    {
     "data": {
      "text/plain": [
       "array([[1., 1., 1.],\n",
       "       [1., 1., 1.],\n",
       "       [1., 1., 1.],\n",
       "       [0., 0., 0.],\n",
       "       [0., 0., 0.],\n",
       "       [0., 0., 0.]])"
      ]
     },
     "execution_count": 190,
     "metadata": {},
     "output_type": "execute_result"
    }
   ],
   "source": [
    "np.vstack((a,b))"
   ]
  },
  {
   "cell_type": "code",
   "execution_count": 191,
   "metadata": {},
   "outputs": [
    {
     "data": {
      "text/plain": [
       "array([[1., 1., 1.],\n",
       "       [1., 1., 1.],\n",
       "       [1., 1., 1.]])"
      ]
     },
     "execution_count": 191,
     "metadata": {},
     "output_type": "execute_result"
    }
   ],
   "source": [
    "a"
   ]
  },
  {
   "cell_type": "code",
   "execution_count": 192,
   "metadata": {},
   "outputs": [
    {
     "data": {
      "text/plain": [
       "array([[0., 0., 0.],\n",
       "       [0., 0., 0.],\n",
       "       [0., 0., 0.]])"
      ]
     },
     "execution_count": 192,
     "metadata": {},
     "output_type": "execute_result"
    }
   ],
   "source": [
    "b"
   ]
  },
  {
   "cell_type": "code",
   "execution_count": 193,
   "metadata": {},
   "outputs": [
    {
     "data": {
      "text/plain": [
       "array([[1., 1., 1., 0., 0., 0.],\n",
       "       [1., 1., 1., 0., 0., 0.],\n",
       "       [1., 1., 1., 0., 0., 0.]])"
      ]
     },
     "execution_count": 193,
     "metadata": {},
     "output_type": "execute_result"
    }
   ],
   "source": [
    "np.hstack((a,b))"
   ]
  },
  {
   "cell_type": "code",
   "execution_count": 194,
   "metadata": {},
   "outputs": [],
   "source": [
    "a = np.arange(16).reshape((4,4))"
   ]
  },
  {
   "cell_type": "code",
   "execution_count": 195,
   "metadata": {},
   "outputs": [
    {
     "data": {
      "text/plain": [
       "array([[ 0,  1,  2,  3],\n",
       "       [ 4,  5,  6,  7],\n",
       "       [ 8,  9, 10, 11],\n",
       "       [12, 13, 14, 15]])"
      ]
     },
     "execution_count": 195,
     "metadata": {},
     "output_type": "execute_result"
    }
   ],
   "source": [
    "a"
   ]
  },
  {
   "cell_type": "code",
   "execution_count": 196,
   "metadata": {},
   "outputs": [
    {
     "data": {
      "text/plain": [
       "[array([[ 0,  1],\n",
       "        [ 4,  5],\n",
       "        [ 8,  9],\n",
       "        [12, 13]]), array([[ 2,  3],\n",
       "        [ 6,  7],\n",
       "        [10, 11],\n",
       "        [14, 15]])]"
      ]
     },
     "execution_count": 196,
     "metadata": {},
     "output_type": "execute_result"
    }
   ],
   "source": [
    "np.hsplit(a,2)"
   ]
  },
  {
   "cell_type": "code",
   "execution_count": 197,
   "metadata": {},
   "outputs": [],
   "source": [
    "[b,c] = np.hsplit(a,2)"
   ]
  },
  {
   "cell_type": "code",
   "execution_count": 198,
   "metadata": {},
   "outputs": [
    {
     "data": {
      "text/plain": [
       "array([[ 0,  1],\n",
       "       [ 4,  5],\n",
       "       [ 8,  9],\n",
       "       [12, 13]])"
      ]
     },
     "execution_count": 198,
     "metadata": {},
     "output_type": "execute_result"
    }
   ],
   "source": [
    "b"
   ]
  },
  {
   "cell_type": "code",
   "execution_count": 199,
   "metadata": {},
   "outputs": [
    {
     "data": {
      "text/plain": [
       "array([[ 2,  3],\n",
       "       [ 6,  7],\n",
       "       [10, 11],\n",
       "       [14, 15]])"
      ]
     },
     "execution_count": 199,
     "metadata": {},
     "output_type": "execute_result"
    }
   ],
   "source": [
    "c"
   ]
  },
  {
   "cell_type": "code",
   "execution_count": 200,
   "metadata": {},
   "outputs": [],
   "source": [
    "[b,c] = np.vsplit(a,2)"
   ]
  },
  {
   "cell_type": "code",
   "execution_count": 201,
   "metadata": {},
   "outputs": [
    {
     "data": {
      "text/plain": [
       "array([[0, 1, 2, 3],\n",
       "       [4, 5, 6, 7]])"
      ]
     },
     "execution_count": 201,
     "metadata": {},
     "output_type": "execute_result"
    }
   ],
   "source": [
    "b"
   ]
  },
  {
   "cell_type": "code",
   "execution_count": 202,
   "metadata": {},
   "outputs": [
    {
     "data": {
      "text/plain": [
       "array([[ 8,  9, 10, 11],\n",
       "       [12, 13, 14, 15]])"
      ]
     },
     "execution_count": 202,
     "metadata": {},
     "output_type": "execute_result"
    }
   ],
   "source": [
    "c"
   ]
  },
  {
   "cell_type": "code",
   "execution_count": 203,
   "metadata": {},
   "outputs": [
    {
     "data": {
      "text/plain": [
       "array([[ 0,  1,  2,  3],\n",
       "       [ 4,  5,  6,  7],\n",
       "       [ 8,  9, 10, 11],\n",
       "       [12, 13, 14, 15]])"
      ]
     },
     "execution_count": 203,
     "metadata": {},
     "output_type": "execute_result"
    }
   ],
   "source": [
    "a"
   ]
  },
  {
   "cell_type": "code",
   "execution_count": 204,
   "metadata": {},
   "outputs": [],
   "source": [
    "b = a"
   ]
  },
  {
   "cell_type": "code",
   "execution_count": 205,
   "metadata": {},
   "outputs": [
    {
     "data": {
      "text/plain": [
       "array([[ 0,  1,  2,  3],\n",
       "       [ 4,  5,  6,  7],\n",
       "       [ 8,  9, 10, 11],\n",
       "       [12, 13, 14, 15]])"
      ]
     },
     "execution_count": 205,
     "metadata": {},
     "output_type": "execute_result"
    }
   ],
   "source": [
    "b"
   ]
  },
  {
   "cell_type": "code",
   "execution_count": 206,
   "metadata": {},
   "outputs": [
    {
     "data": {
      "text/plain": [
       "array([[ 0,  1,  2,  3],\n",
       "       [ 4,  5,  6,  7],\n",
       "       [ 8,  9, 10, 11],\n",
       "       [12, 13, 14, 15]])"
      ]
     },
     "execution_count": 206,
     "metadata": {},
     "output_type": "execute_result"
    }
   ],
   "source": [
    "a"
   ]
  },
  {
   "cell_type": "code",
   "execution_count": 211,
   "metadata": {},
   "outputs": [],
   "source": [
    "b = np.arange(16)"
   ]
  },
  {
   "cell_type": "code",
   "execution_count": 208,
   "metadata": {},
   "outputs": [
    {
     "data": {
      "text/plain": [
       "array([ 0,  1,  2,  3,  4,  5,  6,  7,  8,  9, 10, 11, 12, 13, 14, 15])"
      ]
     },
     "execution_count": 208,
     "metadata": {},
     "output_type": "execute_result"
    }
   ],
   "source": [
    "b"
   ]
  },
  {
   "cell_type": "code",
   "execution_count": 209,
   "metadata": {},
   "outputs": [
    {
     "data": {
      "text/plain": [
       "array([[ 0,  1,  2,  3],\n",
       "       [ 4,  5,  6,  7],\n",
       "       [ 8,  9, 10, 11],\n",
       "       [12, 13, 14, 15]])"
      ]
     },
     "execution_count": 209,
     "metadata": {},
     "output_type": "execute_result"
    }
   ],
   "source": [
    "a"
   ]
  },
  {
   "cell_type": "code",
   "execution_count": 210,
   "metadata": {},
   "outputs": [
    {
     "data": {
      "text/plain": [
       "array([[ 0,  1,  2,  3],\n",
       "       [ 4,  5,  6,  7],\n",
       "       [ 8,  9, 10, 11],\n",
       "       [12, 13, 14, 15]])"
      ]
     },
     "execution_count": 210,
     "metadata": {},
     "output_type": "execute_result"
    }
   ],
   "source": [
    "a"
   ]
  },
  {
   "cell_type": "code",
   "execution_count": 212,
   "metadata": {},
   "outputs": [],
   "source": [
    "c = a"
   ]
  },
  {
   "cell_type": "code",
   "execution_count": 213,
   "metadata": {},
   "outputs": [
    {
     "data": {
      "text/plain": [
       "array([[ 0,  1,  2,  3],\n",
       "       [ 4,  5,  6,  7],\n",
       "       [ 8,  9, 10, 11],\n",
       "       [12, 13, 14, 15]])"
      ]
     },
     "execution_count": 213,
     "metadata": {},
     "output_type": "execute_result"
    }
   ],
   "source": [
    "c"
   ]
  },
  {
   "cell_type": "code",
   "execution_count": 214,
   "metadata": {},
   "outputs": [
    {
     "data": {
      "text/plain": [
       "array([[ 0,  1,  2,  3],\n",
       "       [ 4,  5,  6,  7],\n",
       "       [ 8,  9, 10, 11],\n",
       "       [12, 13, 14, 15]])"
      ]
     },
     "execution_count": 214,
     "metadata": {},
     "output_type": "execute_result"
    }
   ],
   "source": [
    "a"
   ]
  },
  {
   "cell_type": "code",
   "execution_count": 215,
   "metadata": {},
   "outputs": [],
   "source": [
    "c.shape = (2,8)"
   ]
  },
  {
   "cell_type": "code",
   "execution_count": 216,
   "metadata": {},
   "outputs": [
    {
     "data": {
      "text/plain": [
       "array([[ 0,  1,  2,  3,  4,  5,  6,  7],\n",
       "       [ 8,  9, 10, 11, 12, 13, 14, 15]])"
      ]
     },
     "execution_count": 216,
     "metadata": {},
     "output_type": "execute_result"
    }
   ],
   "source": [
    "c"
   ]
  },
  {
   "cell_type": "code",
   "execution_count": 217,
   "metadata": {},
   "outputs": [
    {
     "data": {
      "text/plain": [
       "array([[ 0,  1,  2,  3,  4,  5,  6,  7],\n",
       "       [ 8,  9, 10, 11, 12, 13, 14, 15]])"
      ]
     },
     "execution_count": 217,
     "metadata": {},
     "output_type": "execute_result"
    }
   ],
   "source": [
    "a"
   ]
  },
  {
   "cell_type": "code",
   "execution_count": 218,
   "metadata": {},
   "outputs": [],
   "source": [
    "a.shape=(4,4)"
   ]
  },
  {
   "cell_type": "code",
   "execution_count": 219,
   "metadata": {},
   "outputs": [
    {
     "data": {
      "text/plain": [
       "array([[ 0,  1,  2,  3],\n",
       "       [ 4,  5,  6,  7],\n",
       "       [ 8,  9, 10, 11],\n",
       "       [12, 13, 14, 15]])"
      ]
     },
     "execution_count": 219,
     "metadata": {},
     "output_type": "execute_result"
    }
   ],
   "source": [
    "a"
   ]
  },
  {
   "cell_type": "code",
   "execution_count": 220,
   "metadata": {},
   "outputs": [
    {
     "data": {
      "text/plain": [
       "array([[ 0,  1,  2,  3],\n",
       "       [ 4,  5,  6,  7],\n",
       "       [ 8,  9, 10, 11],\n",
       "       [12, 13, 14, 15]])"
      ]
     },
     "execution_count": 220,
     "metadata": {},
     "output_type": "execute_result"
    }
   ],
   "source": [
    "c"
   ]
  },
  {
   "cell_type": "code",
   "execution_count": 221,
   "metadata": {},
   "outputs": [],
   "source": [
    "c = a.copy()"
   ]
  },
  {
   "cell_type": "code",
   "execution_count": 222,
   "metadata": {},
   "outputs": [
    {
     "data": {
      "text/plain": [
       "array([[ 0,  1,  2,  3],\n",
       "       [ 4,  5,  6,  7],\n",
       "       [ 8,  9, 10, 11],\n",
       "       [12, 13, 14, 15]])"
      ]
     },
     "execution_count": 222,
     "metadata": {},
     "output_type": "execute_result"
    }
   ],
   "source": [
    "c"
   ]
  },
  {
   "cell_type": "code",
   "execution_count": 223,
   "metadata": {},
   "outputs": [
    {
     "data": {
      "text/plain": [
       "array([[ 0,  1,  2,  3],\n",
       "       [ 4,  5,  6,  7],\n",
       "       [ 8,  9, 10, 11],\n",
       "       [12, 13, 14, 15]])"
      ]
     },
     "execution_count": 223,
     "metadata": {},
     "output_type": "execute_result"
    }
   ],
   "source": [
    "a"
   ]
  },
  {
   "cell_type": "code",
   "execution_count": 224,
   "metadata": {},
   "outputs": [],
   "source": [
    "c.shape = (2,8)"
   ]
  },
  {
   "cell_type": "code",
   "execution_count": 225,
   "metadata": {},
   "outputs": [
    {
     "data": {
      "text/plain": [
       "array([[ 0,  1,  2,  3,  4,  5,  6,  7],\n",
       "       [ 8,  9, 10, 11, 12, 13, 14, 15]])"
      ]
     },
     "execution_count": 225,
     "metadata": {},
     "output_type": "execute_result"
    }
   ],
   "source": [
    "c"
   ]
  },
  {
   "cell_type": "code",
   "execution_count": 226,
   "metadata": {},
   "outputs": [
    {
     "data": {
      "text/plain": [
       "array([[ 0,  1,  2,  3],\n",
       "       [ 4,  5,  6,  7],\n",
       "       [ 8,  9, 10, 11],\n",
       "       [12, 13, 14, 15]])"
      ]
     },
     "execution_count": 226,
     "metadata": {},
     "output_type": "execute_result"
    }
   ],
   "source": [
    "a"
   ]
  },
  {
   "cell_type": "code",
   "execution_count": 227,
   "metadata": {},
   "outputs": [],
   "source": [
    "a.shape=(8,2)"
   ]
  },
  {
   "cell_type": "code",
   "execution_count": 228,
   "metadata": {},
   "outputs": [
    {
     "data": {
      "text/plain": [
       "array([[ 0,  1],\n",
       "       [ 2,  3],\n",
       "       [ 4,  5],\n",
       "       [ 6,  7],\n",
       "       [ 8,  9],\n",
       "       [10, 11],\n",
       "       [12, 13],\n",
       "       [14, 15]])"
      ]
     },
     "execution_count": 228,
     "metadata": {},
     "output_type": "execute_result"
    }
   ],
   "source": [
    "a"
   ]
  },
  {
   "cell_type": "code",
   "execution_count": 229,
   "metadata": {},
   "outputs": [
    {
     "data": {
      "text/plain": [
       "array([[ 0,  1,  2,  3,  4,  5,  6,  7],\n",
       "       [ 8,  9, 10, 11, 12, 13, 14, 15]])"
      ]
     },
     "execution_count": 229,
     "metadata": {},
     "output_type": "execute_result"
    }
   ],
   "source": [
    "c"
   ]
  },
  {
   "cell_type": "code",
   "execution_count": 230,
   "metadata": {},
   "outputs": [
    {
     "data": {
      "text/plain": [
       "array([[ 0,  1],\n",
       "       [ 2,  3],\n",
       "       [ 4,  5],\n",
       "       [ 6,  7],\n",
       "       [ 8,  9],\n",
       "       [10, 11],\n",
       "       [12, 13],\n",
       "       [14, 15]])"
      ]
     },
     "execution_count": 230,
     "metadata": {},
     "output_type": "execute_result"
    }
   ],
   "source": [
    "a "
   ]
  },
  {
   "cell_type": "code",
   "execution_count": 231,
   "metadata": {},
   "outputs": [
    {
     "data": {
      "text/plain": [
       "array([[ 0,  1,  2,  3,  4,  5,  6,  7],\n",
       "       [ 8,  9, 10, 11, 12, 13, 14, 15]])"
      ]
     },
     "execution_count": 231,
     "metadata": {},
     "output_type": "execute_result"
    }
   ],
   "source": [
    "c"
   ]
  },
  {
   "cell_type": "code",
   "execution_count": 232,
   "metadata": {},
   "outputs": [],
   "source": [
    "a.shape = (4,4)"
   ]
  },
  {
   "cell_type": "code",
   "execution_count": 233,
   "metadata": {},
   "outputs": [],
   "source": [
    "c.shape = (4,4)"
   ]
  },
  {
   "cell_type": "code",
   "execution_count": 234,
   "metadata": {},
   "outputs": [
    {
     "data": {
      "text/plain": [
       "array([[  0,   1,   4,   9],\n",
       "       [ 16,  25,  36,  49],\n",
       "       [ 64,  81, 100, 121],\n",
       "       [144, 169, 196, 225]])"
      ]
     },
     "execution_count": 234,
     "metadata": {},
     "output_type": "execute_result"
    }
   ],
   "source": [
    "a * c"
   ]
  },
  {
   "cell_type": "code",
   "execution_count": 235,
   "metadata": {},
   "outputs": [],
   "source": [
    "a = np.arange(16).reshape(4,4)"
   ]
  },
  {
   "cell_type": "code",
   "execution_count": 236,
   "metadata": {},
   "outputs": [
    {
     "data": {
      "text/plain": [
       "array([[ 0,  1,  2,  3],\n",
       "       [ 4,  5,  6,  7],\n",
       "       [ 8,  9, 10, 11],\n",
       "       [12, 13, 14, 15]])"
      ]
     },
     "execution_count": 236,
     "metadata": {},
     "output_type": "execute_result"
    }
   ],
   "source": [
    "a"
   ]
  },
  {
   "cell_type": "code",
   "execution_count": 237,
   "metadata": {},
   "outputs": [],
   "source": [
    "b = np.arange(4)"
   ]
  },
  {
   "cell_type": "code",
   "execution_count": 239,
   "metadata": {},
   "outputs": [
    {
     "data": {
      "text/plain": [
       "array([0, 1, 2, 3])"
      ]
     },
     "execution_count": 239,
     "metadata": {},
     "output_type": "execute_result"
    }
   ],
   "source": [
    "b"
   ]
  },
  {
   "cell_type": "code",
   "execution_count": 240,
   "metadata": {},
   "outputs": [
    {
     "data": {
      "text/plain": [
       "array([[ 0,  1,  4,  9],\n",
       "       [ 0,  5, 12, 21],\n",
       "       [ 0,  9, 20, 33],\n",
       "       [ 0, 13, 28, 45]])"
      ]
     },
     "execution_count": 240,
     "metadata": {},
     "output_type": "execute_result"
    }
   ],
   "source": [
    "a * b"
   ]
  },
  {
   "cell_type": "code",
   "execution_count": 241,
   "metadata": {},
   "outputs": [
    {
     "data": {
      "text/plain": [
       "array([[ 0,  2,  4,  6],\n",
       "       [ 4,  6,  8, 10],\n",
       "       [ 8, 10, 12, 14],\n",
       "       [12, 14, 16, 18]])"
      ]
     },
     "execution_count": 241,
     "metadata": {},
     "output_type": "execute_result"
    }
   ],
   "source": [
    "a + b"
   ]
  },
  {
   "cell_type": "code",
   "execution_count": 242,
   "metadata": {},
   "outputs": [
    {
     "data": {
      "text/plain": [
       "array([[ 0,  1,  2,  3],\n",
       "       [ 4,  5,  6,  7],\n",
       "       [ 8,  9, 10, 11],\n",
       "       [12, 13, 14, 15]])"
      ]
     },
     "execution_count": 242,
     "metadata": {},
     "output_type": "execute_result"
    }
   ],
   "source": [
    "a"
   ]
  },
  {
   "cell_type": "code",
   "execution_count": 243,
   "metadata": {},
   "outputs": [
    {
     "data": {
      "text/plain": [
       "array([0, 1, 2, 3])"
      ]
     },
     "execution_count": 243,
     "metadata": {},
     "output_type": "execute_result"
    }
   ],
   "source": [
    "b"
   ]
  },
  {
   "cell_type": "code",
   "execution_count": 244,
   "metadata": {},
   "outputs": [],
   "source": [
    "a = np.arange(6).reshape(3,1,2)"
   ]
  },
  {
   "cell_type": "code",
   "execution_count": 245,
   "metadata": {},
   "outputs": [
    {
     "data": {
      "text/plain": [
       "array([[[0, 1]],\n",
       "\n",
       "       [[2, 3]],\n",
       "\n",
       "       [[4, 5]]])"
      ]
     },
     "execution_count": 245,
     "metadata": {},
     "output_type": "execute_result"
    }
   ],
   "source": [
    "a"
   ]
  },
  {
   "cell_type": "code",
   "execution_count": 246,
   "metadata": {},
   "outputs": [],
   "source": [
    "b = np.arange(6).reshape(3,2,1)"
   ]
  },
  {
   "cell_type": "code",
   "execution_count": 247,
   "metadata": {},
   "outputs": [
    {
     "data": {
      "text/plain": [
       "array([[[0],\n",
       "        [1]],\n",
       "\n",
       "       [[2],\n",
       "        [3]],\n",
       "\n",
       "       [[4],\n",
       "        [5]]])"
      ]
     },
     "execution_count": 247,
     "metadata": {},
     "output_type": "execute_result"
    }
   ],
   "source": [
    "b"
   ]
  },
  {
   "cell_type": "code",
   "execution_count": 248,
   "metadata": {},
   "outputs": [
    {
     "data": {
      "text/plain": [
       "array([[[ 0,  1],\n",
       "        [ 1,  2]],\n",
       "\n",
       "       [[ 4,  5],\n",
       "        [ 5,  6]],\n",
       "\n",
       "       [[ 8,  9],\n",
       "        [ 9, 10]]])"
      ]
     },
     "execution_count": 248,
     "metadata": {},
     "output_type": "execute_result"
    }
   ],
   "source": [
    "a + b"
   ]
  },
  {
   "cell_type": "code",
   "execution_count": 275,
   "metadata": {},
   "outputs": [],
   "source": [
    "a = np.array([(1,'First', 0.2,1+2j),(2,'Second', 0.4,1-2j),(3,'Third', 0.3,3+2j)],\n",
    "             dtype=[('id','i2'),('position','a6'),('value','f4'),('complex','c8')])"
   ]
  },
  {
   "cell_type": "code",
   "execution_count": 276,
   "metadata": {},
   "outputs": [
    {
     "data": {
      "text/plain": [
       "array([(1, b'First', 0.2, 1.+2.j), (2, b'Second', 0.4, 1.-2.j),\n",
       "       (3, b'Third', 0.3, 3.+2.j)],\n",
       "      dtype=[('id', '<i2'), ('position', 'S6'), ('value', '<f4'), ('complex', '<c8')])"
      ]
     },
     "execution_count": 276,
     "metadata": {},
     "output_type": "execute_result"
    }
   ],
   "source": [
    "a"
   ]
  },
  {
   "cell_type": "code",
   "execution_count": 265,
   "metadata": {},
   "outputs": [
    {
     "data": {
      "text/plain": [
       "(1, b'First', 0.2, 1.+2.j)"
      ]
     },
     "execution_count": 265,
     "metadata": {},
     "output_type": "execute_result"
    }
   ],
   "source": [
    "a[0]"
   ]
  },
  {
   "cell_type": "code",
   "execution_count": 266,
   "metadata": {},
   "outputs": [
    {
     "data": {
      "text/plain": [
       "(2, b'Second', 0.4, 1.-2.j)"
      ]
     },
     "execution_count": 266,
     "metadata": {},
     "output_type": "execute_result"
    }
   ],
   "source": [
    "a[1]"
   ]
  },
  {
   "cell_type": "code",
   "execution_count": 267,
   "metadata": {},
   "outputs": [
    {
     "data": {
      "text/plain": [
       "(3, b'Third', 0.3, 3.+2.j)"
      ]
     },
     "execution_count": 267,
     "metadata": {},
     "output_type": "execute_result"
    }
   ],
   "source": [
    "a[2]"
   ]
  },
  {
   "cell_type": "code",
   "execution_count": 268,
   "metadata": {},
   "outputs": [
    {
     "data": {
      "text/plain": [
       "(1, b'First', 0.2, 1.+2.j)"
      ]
     },
     "execution_count": 268,
     "metadata": {},
     "output_type": "execute_result"
    }
   ],
   "source": [
    "a[0]"
   ]
  },
  {
   "cell_type": "code",
   "execution_count": 270,
   "metadata": {},
   "outputs": [
    {
     "data": {
      "text/plain": [
       "array([1, 2, 3], dtype=int16)"
      ]
     },
     "execution_count": 270,
     "metadata": {},
     "output_type": "execute_result"
    }
   ],
   "source": [
    "a['id']"
   ]
  },
  {
   "cell_type": "code",
   "execution_count": 272,
   "metadata": {},
   "outputs": [
    {
     "data": {
      "text/plain": [
       "array([b'First', b'Second', b'Third'], dtype='|S6')"
      ]
     },
     "execution_count": 272,
     "metadata": {},
     "output_type": "execute_result"
    }
   ],
   "source": [
    "a['position']"
   ]
  },
  {
   "cell_type": "code",
   "execution_count": 273,
   "metadata": {},
   "outputs": [
    {
     "data": {
      "text/plain": [
       "array([0.2, 0.4, 0.3], dtype=float32)"
      ]
     },
     "execution_count": 273,
     "metadata": {},
     "output_type": "execute_result"
    }
   ],
   "source": [
    "a['value']"
   ]
  },
  {
   "cell_type": "code",
   "execution_count": 274,
   "metadata": {},
   "outputs": [
    {
     "data": {
      "text/plain": [
       "array([1.+2.j, 1.-2.j, 3.+2.j], dtype=complex64)"
      ]
     },
     "execution_count": 274,
     "metadata": {},
     "output_type": "execute_result"
    }
   ],
   "source": [
    "a['complex']"
   ]
  },
  {
   "cell_type": "code",
   "execution_count": 279,
   "metadata": {},
   "outputs": [],
   "source": [
    "a.dtype.names=('idx','order','valuex','cplx')"
   ]
  },
  {
   "cell_type": "code",
   "execution_count": 280,
   "metadata": {},
   "outputs": [
    {
     "data": {
      "text/plain": [
       "array([(1, b'First', 0.2, 1.+2.j), (2, b'Second', 0.4, 1.-2.j),\n",
       "       (3, b'Third', 0.3, 3.+2.j)],\n",
       "      dtype=[('idx', '<i2'), ('order', 'S6'), ('valuex', '<f4'), ('cplx', '<c8')])"
      ]
     },
     "execution_count": 280,
     "metadata": {},
     "output_type": "execute_result"
    }
   ],
   "source": [
    "a"
   ]
  },
  {
   "cell_type": "code",
   "execution_count": 281,
   "metadata": {},
   "outputs": [
    {
     "data": {
      "text/plain": [
       "array([(1, b'First', 0.2, 1.+2.j), (2, b'Second', 0.4, 1.-2.j),\n",
       "       (3, b'Third', 0.3, 3.+2.j)],\n",
       "      dtype=[('idx', '<i2'), ('order', 'S6'), ('valuex', '<f4'), ('cplx', '<c8')])"
      ]
     },
     "execution_count": 281,
     "metadata": {},
     "output_type": "execute_result"
    }
   ],
   "source": [
    "a"
   ]
  },
  {
   "cell_type": "code",
   "execution_count": 283,
   "metadata": {},
   "outputs": [],
   "source": [
    "np.save('saved_data',a)"
   ]
  },
  {
   "cell_type": "code",
   "execution_count": 284,
   "metadata": {},
   "outputs": [],
   "source": [
    "data = np.load('saved_data.npy')"
   ]
  },
  {
   "cell_type": "code",
   "execution_count": 285,
   "metadata": {},
   "outputs": [
    {
     "data": {
      "text/plain": [
       "array([(1, b'First', 0.2, 1.+2.j), (2, b'Second', 0.4, 1.-2.j),\n",
       "       (3, b'Third', 0.3, 3.+2.j)],\n",
       "      dtype=[('idx', '<i2'), ('order', 'S6'), ('valuex', '<f4'), ('cplx', '<c8')])"
      ]
     },
     "execution_count": 285,
     "metadata": {},
     "output_type": "execute_result"
    }
   ],
   "source": [
    "data"
   ]
  },
  {
   "cell_type": "code",
   "execution_count": 290,
   "metadata": {},
   "outputs": [],
   "source": [
    "data = np.genfromtxt('02_data.csv',delimiter=',',names=True)"
   ]
  },
  {
   "cell_type": "code",
   "execution_count": 291,
   "metadata": {},
   "outputs": [
    {
     "data": {
      "text/plain": [
       "array([(1., nan, 34.), (2., nan, 56.), (3., nan, 96.)],\n",
       "      dtype=[('id', '<f8'), ('position', '<f8'), ('value', '<f8')])"
      ]
     },
     "execution_count": 291,
     "metadata": {},
     "output_type": "execute_result"
    }
   ],
   "source": [
    "data"
   ]
  },
  {
   "cell_type": "code",
   "execution_count": 293,
   "metadata": {},
   "outputs": [
    {
     "data": {
      "text/plain": [
       "array([1., 2., 3.])"
      ]
     },
     "execution_count": 293,
     "metadata": {},
     "output_type": "execute_result"
    }
   ],
   "source": [
    "data['id']"
   ]
  },
  {
   "cell_type": "code",
   "execution_count": 294,
   "metadata": {},
   "outputs": [
    {
     "data": {
      "text/plain": [
       "(1., nan, 34.)"
      ]
     },
     "execution_count": 294,
     "metadata": {},
     "output_type": "execute_result"
    }
   ],
   "source": [
    "data[0]"
   ]
  },
  {
   "cell_type": "code",
   "execution_count": 295,
   "metadata": {},
   "outputs": [
    {
     "data": {
      "text/plain": [
       "(2., nan, 56.)"
      ]
     },
     "execution_count": 295,
     "metadata": {},
     "output_type": "execute_result"
    }
   ],
   "source": [
    "data[1]"
   ]
  },
  {
   "cell_type": "code",
   "execution_count": 296,
   "metadata": {},
   "outputs": [
    {
     "data": {
      "text/plain": [
       "(3., nan, 96.)"
      ]
     },
     "execution_count": 296,
     "metadata": {},
     "output_type": "execute_result"
    }
   ],
   "source": [
    "data[2]"
   ]
  },
  {
   "cell_type": "code",
   "execution_count": 297,
   "metadata": {},
   "outputs": [
    {
     "ename": "ValueError",
     "evalue": "Some errors were detected !\n    Line #2 (got 13 columns instead of 12)\n    Line #3 (got 13 columns instead of 12)\n    Line #4 (got 13 columns instead of 12)\n    Line #5 (got 13 columns instead of 12)\n    Line #6 (got 13 columns instead of 12)\n    Line #7 (got 13 columns instead of 12)\n    Line #8 (got 13 columns instead of 12)\n    Line #9 (got 13 columns instead of 12)\n    Line #10 (got 13 columns instead of 12)\n    Line #11 (got 13 columns instead of 12)\n    Line #12 (got 13 columns instead of 12)\n    Line #13 (got 13 columns instead of 12)\n    Line #14 (got 13 columns instead of 12)\n    Line #15 (got 13 columns instead of 12)\n    Line #16 (got 13 columns instead of 12)\n    Line #17 (got 13 columns instead of 12)\n    Line #18 (got 13 columns instead of 12)\n    Line #19 (got 13 columns instead of 12)\n    Line #20 (got 13 columns instead of 12)\n    Line #21 (got 13 columns instead of 12)\n    Line #22 (got 13 columns instead of 12)\n    Line #23 (got 13 columns instead of 12)\n    Line #24 (got 13 columns instead of 12)\n    Line #25 (got 13 columns instead of 12)\n    Line #26 (got 13 columns instead of 12)\n    Line #27 (got 13 columns instead of 12)\n    Line #28 (got 13 columns instead of 12)\n    Line #29 (got 13 columns instead of 12)\n    Line #30 (got 13 columns instead of 12)\n    Line #31 (got 13 columns instead of 12)\n    Line #32 (got 13 columns instead of 12)\n    Line #33 (got 13 columns instead of 12)\n    Line #34 (got 13 columns instead of 12)\n    Line #35 (got 13 columns instead of 12)\n    Line #36 (got 13 columns instead of 12)\n    Line #37 (got 13 columns instead of 12)\n    Line #38 (got 13 columns instead of 12)\n    Line #39 (got 13 columns instead of 12)\n    Line #40 (got 13 columns instead of 12)\n    Line #41 (got 13 columns instead of 12)\n    Line #42 (got 13 columns instead of 12)\n    Line #43 (got 13 columns instead of 12)\n    Line #44 (got 13 columns instead of 12)\n    Line #45 (got 13 columns instead of 12)\n    Line #46 (got 13 columns instead of 12)\n    Line #47 (got 13 columns instead of 12)\n    Line #48 (got 13 columns instead of 12)\n    Line #49 (got 13 columns instead of 12)\n    Line #50 (got 13 columns instead of 12)\n    Line #51 (got 13 columns instead of 12)\n    Line #52 (got 13 columns instead of 12)\n    Line #53 (got 13 columns instead of 12)\n    Line #54 (got 13 columns instead of 12)\n    Line #55 (got 13 columns instead of 12)\n    Line #56 (got 13 columns instead of 12)\n    Line #57 (got 13 columns instead of 12)\n    Line #58 (got 13 columns instead of 12)\n    Line #59 (got 13 columns instead of 12)\n    Line #60 (got 13 columns instead of 12)\n    Line #61 (got 13 columns instead of 12)\n    Line #62 (got 13 columns instead of 12)\n    Line #63 (got 13 columns instead of 12)\n    Line #64 (got 13 columns instead of 12)\n    Line #65 (got 13 columns instead of 12)\n    Line #66 (got 13 columns instead of 12)\n    Line #67 (got 13 columns instead of 12)\n    Line #68 (got 13 columns instead of 12)\n    Line #69 (got 13 columns instead of 12)\n    Line #70 (got 13 columns instead of 12)\n    Line #71 (got 13 columns instead of 12)\n    Line #72 (got 13 columns instead of 12)\n    Line #73 (got 13 columns instead of 12)\n    Line #74 (got 13 columns instead of 12)\n    Line #75 (got 13 columns instead of 12)\n    Line #76 (got 13 columns instead of 12)\n    Line #77 (got 13 columns instead of 12)\n    Line #78 (got 13 columns instead of 12)\n    Line #79 (got 13 columns instead of 12)\n    Line #80 (got 13 columns instead of 12)\n    Line #81 (got 13 columns instead of 12)\n    Line #82 (got 13 columns instead of 12)\n    Line #83 (got 13 columns instead of 12)\n    Line #84 (got 13 columns instead of 12)\n    Line #85 (got 13 columns instead of 12)\n    Line #86 (got 13 columns instead of 12)\n    Line #87 (got 13 columns instead of 12)\n    Line #88 (got 13 columns instead of 12)\n    Line #89 (got 13 columns instead of 12)\n    Line #90 (got 13 columns instead of 12)\n    Line #91 (got 13 columns instead of 12)\n    Line #92 (got 13 columns instead of 12)\n    Line #93 (got 13 columns instead of 12)\n    Line #94 (got 13 columns instead of 12)\n    Line #95 (got 13 columns instead of 12)\n    Line #96 (got 13 columns instead of 12)\n    Line #97 (got 13 columns instead of 12)\n    Line #98 (got 13 columns instead of 12)\n    Line #99 (got 13 columns instead of 12)\n    Line #100 (got 13 columns instead of 12)\n    Line #101 (got 13 columns instead of 12)\n    Line #102 (got 13 columns instead of 12)\n    Line #103 (got 13 columns instead of 12)\n    Line #104 (got 13 columns instead of 12)\n    Line #105 (got 13 columns instead of 12)\n    Line #106 (got 13 columns instead of 12)\n    Line #107 (got 13 columns instead of 12)\n    Line #108 (got 13 columns instead of 12)\n    Line #109 (got 13 columns instead of 12)\n    Line #110 (got 13 columns instead of 12)\n    Line #111 (got 13 columns instead of 12)\n    Line #112 (got 13 columns instead of 12)\n    Line #113 (got 13 columns instead of 12)\n    Line #114 (got 13 columns instead of 12)\n    Line #115 (got 13 columns instead of 12)\n    Line #116 (got 13 columns instead of 12)\n    Line #117 (got 13 columns instead of 12)\n    Line #118 (got 13 columns instead of 12)\n    Line #119 (got 13 columns instead of 12)\n    Line #120 (got 13 columns instead of 12)\n    Line #121 (got 13 columns instead of 12)\n    Line #122 (got 13 columns instead of 12)\n    Line #123 (got 13 columns instead of 12)\n    Line #124 (got 13 columns instead of 12)\n    Line #125 (got 13 columns instead of 12)\n    Line #126 (got 13 columns instead of 12)\n    Line #127 (got 13 columns instead of 12)\n    Line #128 (got 13 columns instead of 12)\n    Line #129 (got 13 columns instead of 12)\n    Line #130 (got 13 columns instead of 12)\n    Line #131 (got 13 columns instead of 12)\n    Line #132 (got 13 columns instead of 12)\n    Line #133 (got 13 columns instead of 12)\n    Line #134 (got 13 columns instead of 12)\n    Line #135 (got 13 columns instead of 12)\n    Line #136 (got 13 columns instead of 12)\n    Line #137 (got 13 columns instead of 12)\n    Line #138 (got 13 columns instead of 12)\n    Line #139 (got 13 columns instead of 12)\n    Line #140 (got 13 columns instead of 12)\n    Line #141 (got 13 columns instead of 12)\n    Line #142 (got 13 columns instead of 12)\n    Line #143 (got 13 columns instead of 12)\n    Line #144 (got 13 columns instead of 12)\n    Line #145 (got 13 columns instead of 12)\n    Line #146 (got 13 columns instead of 12)\n    Line #147 (got 13 columns instead of 12)\n    Line #148 (got 13 columns instead of 12)\n    Line #149 (got 13 columns instead of 12)\n    Line #150 (got 13 columns instead of 12)\n    Line #151 (got 13 columns instead of 12)\n    Line #152 (got 13 columns instead of 12)\n    Line #153 (got 13 columns instead of 12)\n    Line #154 (got 13 columns instead of 12)\n    Line #155 (got 13 columns instead of 12)\n    Line #156 (got 13 columns instead of 12)\n    Line #157 (got 13 columns instead of 12)\n    Line #158 (got 13 columns instead of 12)\n    Line #159 (got 13 columns instead of 12)\n    Line #160 (got 13 columns instead of 12)\n    Line #161 (got 13 columns instead of 12)\n    Line #162 (got 13 columns instead of 12)\n    Line #163 (got 13 columns instead of 12)\n    Line #164 (got 13 columns instead of 12)\n    Line #165 (got 13 columns instead of 12)\n    Line #166 (got 13 columns instead of 12)\n    Line #167 (got 13 columns instead of 12)\n    Line #168 (got 13 columns instead of 12)\n    Line #169 (got 13 columns instead of 12)\n    Line #170 (got 13 columns instead of 12)\n    Line #171 (got 13 columns instead of 12)\n    Line #172 (got 13 columns instead of 12)\n    Line #173 (got 13 columns instead of 12)\n    Line #174 (got 13 columns instead of 12)\n    Line #175 (got 13 columns instead of 12)\n    Line #176 (got 13 columns instead of 12)\n    Line #177 (got 13 columns instead of 12)\n    Line #178 (got 13 columns instead of 12)\n    Line #179 (got 13 columns instead of 12)\n    Line #180 (got 13 columns instead of 12)\n    Line #181 (got 13 columns instead of 12)\n    Line #182 (got 13 columns instead of 12)\n    Line #183 (got 13 columns instead of 12)\n    Line #184 (got 13 columns instead of 12)\n    Line #185 (got 13 columns instead of 12)\n    Line #186 (got 13 columns instead of 12)\n    Line #187 (got 13 columns instead of 12)\n    Line #188 (got 13 columns instead of 12)\n    Line #189 (got 13 columns instead of 12)\n    Line #190 (got 13 columns instead of 12)\n    Line #191 (got 13 columns instead of 12)\n    Line #192 (got 13 columns instead of 12)\n    Line #193 (got 13 columns instead of 12)\n    Line #194 (got 13 columns instead of 12)\n    Line #195 (got 13 columns instead of 12)\n    Line #196 (got 13 columns instead of 12)\n    Line #197 (got 13 columns instead of 12)\n    Line #198 (got 13 columns instead of 12)\n    Line #199 (got 13 columns instead of 12)\n    Line #200 (got 13 columns instead of 12)\n    Line #201 (got 13 columns instead of 12)\n    Line #202 (got 13 columns instead of 12)\n    Line #203 (got 13 columns instead of 12)\n    Line #204 (got 13 columns instead of 12)\n    Line #205 (got 13 columns instead of 12)\n    Line #206 (got 13 columns instead of 12)\n    Line #207 (got 13 columns instead of 12)\n    Line #208 (got 13 columns instead of 12)\n    Line #209 (got 13 columns instead of 12)\n    Line #210 (got 13 columns instead of 12)\n    Line #211 (got 13 columns instead of 12)\n    Line #212 (got 13 columns instead of 12)\n    Line #213 (got 13 columns instead of 12)\n    Line #214 (got 13 columns instead of 12)\n    Line #215 (got 13 columns instead of 12)\n    Line #216 (got 13 columns instead of 12)\n    Line #217 (got 13 columns instead of 12)\n    Line #218 (got 13 columns instead of 12)\n    Line #219 (got 13 columns instead of 12)\n    Line #220 (got 13 columns instead of 12)\n    Line #221 (got 13 columns instead of 12)\n    Line #222 (got 13 columns instead of 12)\n    Line #223 (got 13 columns instead of 12)\n    Line #224 (got 13 columns instead of 12)\n    Line #225 (got 13 columns instead of 12)\n    Line #226 (got 13 columns instead of 12)\n    Line #227 (got 13 columns instead of 12)\n    Line #228 (got 13 columns instead of 12)\n    Line #229 (got 13 columns instead of 12)\n    Line #230 (got 13 columns instead of 12)\n    Line #231 (got 13 columns instead of 12)\n    Line #232 (got 13 columns instead of 12)\n    Line #233 (got 13 columns instead of 12)\n    Line #234 (got 13 columns instead of 12)\n    Line #235 (got 13 columns instead of 12)\n    Line #236 (got 13 columns instead of 12)\n    Line #237 (got 13 columns instead of 12)\n    Line #238 (got 13 columns instead of 12)\n    Line #239 (got 13 columns instead of 12)\n    Line #240 (got 13 columns instead of 12)\n    Line #241 (got 13 columns instead of 12)\n    Line #242 (got 13 columns instead of 12)\n    Line #243 (got 13 columns instead of 12)\n    Line #244 (got 13 columns instead of 12)\n    Line #245 (got 13 columns instead of 12)\n    Line #246 (got 13 columns instead of 12)\n    Line #247 (got 13 columns instead of 12)\n    Line #248 (got 13 columns instead of 12)\n    Line #249 (got 13 columns instead of 12)\n    Line #250 (got 13 columns instead of 12)\n    Line #251 (got 13 columns instead of 12)\n    Line #252 (got 13 columns instead of 12)\n    Line #253 (got 13 columns instead of 12)\n    Line #254 (got 13 columns instead of 12)\n    Line #255 (got 13 columns instead of 12)\n    Line #256 (got 13 columns instead of 12)\n    Line #257 (got 13 columns instead of 12)\n    Line #258 (got 13 columns instead of 12)\n    Line #259 (got 13 columns instead of 12)\n    Line #260 (got 13 columns instead of 12)\n    Line #261 (got 13 columns instead of 12)\n    Line #262 (got 13 columns instead of 12)\n    Line #263 (got 13 columns instead of 12)\n    Line #264 (got 13 columns instead of 12)\n    Line #265 (got 13 columns instead of 12)\n    Line #266 (got 13 columns instead of 12)\n    Line #267 (got 13 columns instead of 12)\n    Line #268 (got 13 columns instead of 12)\n    Line #269 (got 13 columns instead of 12)\n    Line #270 (got 13 columns instead of 12)\n    Line #271 (got 13 columns instead of 12)\n    Line #272 (got 13 columns instead of 12)\n    Line #273 (got 13 columns instead of 12)\n    Line #274 (got 13 columns instead of 12)\n    Line #275 (got 13 columns instead of 12)\n    Line #276 (got 13 columns instead of 12)\n    Line #277 (got 13 columns instead of 12)\n    Line #278 (got 13 columns instead of 12)\n    Line #279 (got 13 columns instead of 12)\n    Line #280 (got 13 columns instead of 12)\n    Line #281 (got 13 columns instead of 12)\n    Line #282 (got 13 columns instead of 12)\n    Line #283 (got 13 columns instead of 12)\n    Line #284 (got 13 columns instead of 12)\n    Line #285 (got 13 columns instead of 12)\n    Line #286 (got 13 columns instead of 12)\n    Line #287 (got 13 columns instead of 12)\n    Line #288 (got 13 columns instead of 12)\n    Line #289 (got 13 columns instead of 12)\n    Line #290 (got 13 columns instead of 12)\n    Line #291 (got 13 columns instead of 12)\n    Line #292 (got 13 columns instead of 12)\n    Line #293 (got 13 columns instead of 12)\n    Line #294 (got 13 columns instead of 12)\n    Line #295 (got 13 columns instead of 12)\n    Line #296 (got 13 columns instead of 12)\n    Line #297 (got 13 columns instead of 12)\n    Line #298 (got 13 columns instead of 12)\n    Line #299 (got 13 columns instead of 12)\n    Line #300 (got 13 columns instead of 12)\n    Line #301 (got 13 columns instead of 12)\n    Line #302 (got 13 columns instead of 12)\n    Line #303 (got 13 columns instead of 12)\n    Line #304 (got 13 columns instead of 12)\n    Line #305 (got 13 columns instead of 12)\n    Line #306 (got 13 columns instead of 12)\n    Line #307 (got 13 columns instead of 12)\n    Line #308 (got 13 columns instead of 12)\n    Line #309 (got 13 columns instead of 12)\n    Line #310 (got 13 columns instead of 12)\n    Line #311 (got 13 columns instead of 12)\n    Line #312 (got 13 columns instead of 12)\n    Line #313 (got 13 columns instead of 12)\n    Line #314 (got 13 columns instead of 12)\n    Line #315 (got 13 columns instead of 12)\n    Line #316 (got 13 columns instead of 12)\n    Line #317 (got 13 columns instead of 12)\n    Line #318 (got 13 columns instead of 12)\n    Line #319 (got 13 columns instead of 12)\n    Line #320 (got 13 columns instead of 12)\n    Line #321 (got 13 columns instead of 12)\n    Line #322 (got 13 columns instead of 12)\n    Line #323 (got 13 columns instead of 12)\n    Line #324 (got 13 columns instead of 12)\n    Line #325 (got 13 columns instead of 12)\n    Line #326 (got 13 columns instead of 12)\n    Line #327 (got 13 columns instead of 12)\n    Line #328 (got 13 columns instead of 12)\n    Line #329 (got 13 columns instead of 12)\n    Line #330 (got 13 columns instead of 12)\n    Line #331 (got 13 columns instead of 12)\n    Line #332 (got 13 columns instead of 12)\n    Line #333 (got 13 columns instead of 12)\n    Line #334 (got 13 columns instead of 12)\n    Line #335 (got 13 columns instead of 12)\n    Line #336 (got 13 columns instead of 12)\n    Line #337 (got 13 columns instead of 12)\n    Line #338 (got 13 columns instead of 12)\n    Line #339 (got 13 columns instead of 12)\n    Line #340 (got 13 columns instead of 12)\n    Line #341 (got 13 columns instead of 12)\n    Line #342 (got 13 columns instead of 12)\n    Line #343 (got 13 columns instead of 12)\n    Line #344 (got 13 columns instead of 12)\n    Line #345 (got 13 columns instead of 12)\n    Line #346 (got 13 columns instead of 12)\n    Line #347 (got 13 columns instead of 12)\n    Line #348 (got 13 columns instead of 12)\n    Line #349 (got 13 columns instead of 12)\n    Line #350 (got 13 columns instead of 12)\n    Line #351 (got 13 columns instead of 12)\n    Line #352 (got 13 columns instead of 12)\n    Line #353 (got 13 columns instead of 12)\n    Line #354 (got 13 columns instead of 12)\n    Line #355 (got 13 columns instead of 12)\n    Line #356 (got 13 columns instead of 12)\n    Line #357 (got 13 columns instead of 12)\n    Line #358 (got 13 columns instead of 12)\n    Line #359 (got 13 columns instead of 12)\n    Line #360 (got 13 columns instead of 12)\n    Line #361 (got 13 columns instead of 12)\n    Line #362 (got 13 columns instead of 12)\n    Line #363 (got 13 columns instead of 12)\n    Line #364 (got 13 columns instead of 12)\n    Line #365 (got 13 columns instead of 12)\n    Line #366 (got 13 columns instead of 12)\n    Line #367 (got 13 columns instead of 12)\n    Line #368 (got 13 columns instead of 12)\n    Line #369 (got 13 columns instead of 12)\n    Line #370 (got 13 columns instead of 12)\n    Line #371 (got 13 columns instead of 12)\n    Line #372 (got 13 columns instead of 12)\n    Line #373 (got 13 columns instead of 12)\n    Line #374 (got 13 columns instead of 12)\n    Line #375 (got 13 columns instead of 12)\n    Line #376 (got 13 columns instead of 12)\n    Line #377 (got 13 columns instead of 12)\n    Line #378 (got 13 columns instead of 12)\n    Line #379 (got 13 columns instead of 12)\n    Line #380 (got 13 columns instead of 12)\n    Line #381 (got 13 columns instead of 12)\n    Line #382 (got 13 columns instead of 12)\n    Line #383 (got 13 columns instead of 12)\n    Line #384 (got 13 columns instead of 12)\n    Line #385 (got 13 columns instead of 12)\n    Line #386 (got 13 columns instead of 12)\n    Line #387 (got 13 columns instead of 12)\n    Line #388 (got 13 columns instead of 12)\n    Line #389 (got 13 columns instead of 12)\n    Line #390 (got 13 columns instead of 12)\n    Line #391 (got 13 columns instead of 12)\n    Line #392 (got 13 columns instead of 12)\n    Line #393 (got 13 columns instead of 12)\n    Line #394 (got 13 columns instead of 12)\n    Line #395 (got 13 columns instead of 12)\n    Line #396 (got 13 columns instead of 12)\n    Line #397 (got 13 columns instead of 12)\n    Line #398 (got 13 columns instead of 12)\n    Line #399 (got 13 columns instead of 12)\n    Line #400 (got 13 columns instead of 12)\n    Line #401 (got 13 columns instead of 12)\n    Line #402 (got 13 columns instead of 12)\n    Line #403 (got 13 columns instead of 12)\n    Line #404 (got 13 columns instead of 12)\n    Line #405 (got 13 columns instead of 12)\n    Line #406 (got 13 columns instead of 12)\n    Line #407 (got 13 columns instead of 12)\n    Line #408 (got 13 columns instead of 12)\n    Line #409 (got 13 columns instead of 12)\n    Line #410 (got 13 columns instead of 12)\n    Line #411 (got 13 columns instead of 12)\n    Line #412 (got 13 columns instead of 12)\n    Line #413 (got 13 columns instead of 12)\n    Line #414 (got 13 columns instead of 12)\n    Line #415 (got 13 columns instead of 12)\n    Line #416 (got 13 columns instead of 12)\n    Line #417 (got 13 columns instead of 12)\n    Line #418 (got 13 columns instead of 12)\n    Line #419 (got 13 columns instead of 12)\n    Line #420 (got 13 columns instead of 12)\n    Line #421 (got 13 columns instead of 12)\n    Line #422 (got 13 columns instead of 12)\n    Line #423 (got 13 columns instead of 12)\n    Line #424 (got 13 columns instead of 12)\n    Line #425 (got 13 columns instead of 12)\n    Line #426 (got 13 columns instead of 12)\n    Line #427 (got 13 columns instead of 12)\n    Line #428 (got 13 columns instead of 12)\n    Line #429 (got 13 columns instead of 12)\n    Line #430 (got 13 columns instead of 12)\n    Line #431 (got 13 columns instead of 12)\n    Line #432 (got 13 columns instead of 12)\n    Line #433 (got 13 columns instead of 12)\n    Line #434 (got 13 columns instead of 12)\n    Line #435 (got 13 columns instead of 12)\n    Line #436 (got 13 columns instead of 12)\n    Line #437 (got 13 columns instead of 12)\n    Line #438 (got 13 columns instead of 12)\n    Line #439 (got 13 columns instead of 12)\n    Line #440 (got 13 columns instead of 12)\n    Line #441 (got 13 columns instead of 12)\n    Line #442 (got 13 columns instead of 12)\n    Line #443 (got 13 columns instead of 12)\n    Line #444 (got 13 columns instead of 12)\n    Line #445 (got 13 columns instead of 12)\n    Line #446 (got 13 columns instead of 12)\n    Line #447 (got 13 columns instead of 12)\n    Line #448 (got 13 columns instead of 12)\n    Line #449 (got 13 columns instead of 12)\n    Line #450 (got 13 columns instead of 12)\n    Line #451 (got 13 columns instead of 12)\n    Line #452 (got 13 columns instead of 12)\n    Line #453 (got 13 columns instead of 12)\n    Line #454 (got 13 columns instead of 12)\n    Line #455 (got 13 columns instead of 12)\n    Line #456 (got 13 columns instead of 12)\n    Line #457 (got 13 columns instead of 12)\n    Line #458 (got 13 columns instead of 12)\n    Line #459 (got 13 columns instead of 12)\n    Line #460 (got 13 columns instead of 12)\n    Line #461 (got 13 columns instead of 12)\n    Line #462 (got 13 columns instead of 12)\n    Line #463 (got 13 columns instead of 12)\n    Line #464 (got 13 columns instead of 12)\n    Line #465 (got 13 columns instead of 12)\n    Line #466 (got 13 columns instead of 12)\n    Line #467 (got 13 columns instead of 12)\n    Line #468 (got 13 columns instead of 12)\n    Line #469 (got 13 columns instead of 12)\n    Line #470 (got 13 columns instead of 12)\n    Line #471 (got 13 columns instead of 12)\n    Line #472 (got 13 columns instead of 12)\n    Line #473 (got 13 columns instead of 12)\n    Line #474 (got 13 columns instead of 12)\n    Line #475 (got 13 columns instead of 12)\n    Line #476 (got 13 columns instead of 12)\n    Line #477 (got 13 columns instead of 12)\n    Line #478 (got 13 columns instead of 12)\n    Line #479 (got 13 columns instead of 12)\n    Line #480 (got 13 columns instead of 12)\n    Line #481 (got 13 columns instead of 12)\n    Line #482 (got 13 columns instead of 12)\n    Line #483 (got 13 columns instead of 12)\n    Line #484 (got 13 columns instead of 12)\n    Line #485 (got 13 columns instead of 12)\n    Line #486 (got 13 columns instead of 12)\n    Line #487 (got 13 columns instead of 12)\n    Line #488 (got 13 columns instead of 12)\n    Line #489 (got 13 columns instead of 12)\n    Line #490 (got 13 columns instead of 12)\n    Line #491 (got 13 columns instead of 12)\n    Line #492 (got 13 columns instead of 12)\n    Line #493 (got 13 columns instead of 12)\n    Line #494 (got 13 columns instead of 12)\n    Line #495 (got 13 columns instead of 12)\n    Line #496 (got 13 columns instead of 12)\n    Line #497 (got 13 columns instead of 12)\n    Line #498 (got 13 columns instead of 12)\n    Line #499 (got 13 columns instead of 12)\n    Line #500 (got 13 columns instead of 12)\n    Line #501 (got 13 columns instead of 12)\n    Line #502 (got 13 columns instead of 12)\n    Line #503 (got 13 columns instead of 12)\n    Line #504 (got 13 columns instead of 12)\n    Line #505 (got 13 columns instead of 12)\n    Line #506 (got 13 columns instead of 12)\n    Line #507 (got 13 columns instead of 12)\n    Line #508 (got 13 columns instead of 12)\n    Line #509 (got 13 columns instead of 12)\n    Line #510 (got 13 columns instead of 12)\n    Line #511 (got 13 columns instead of 12)\n    Line #512 (got 13 columns instead of 12)\n    Line #513 (got 13 columns instead of 12)\n    Line #514 (got 13 columns instead of 12)\n    Line #515 (got 13 columns instead of 12)\n    Line #516 (got 13 columns instead of 12)\n    Line #517 (got 13 columns instead of 12)\n    Line #518 (got 13 columns instead of 12)\n    Line #519 (got 13 columns instead of 12)\n    Line #520 (got 13 columns instead of 12)\n    Line #521 (got 13 columns instead of 12)\n    Line #522 (got 13 columns instead of 12)\n    Line #523 (got 13 columns instead of 12)\n    Line #524 (got 13 columns instead of 12)\n    Line #525 (got 13 columns instead of 12)\n    Line #526 (got 13 columns instead of 12)\n    Line #527 (got 13 columns instead of 12)\n    Line #528 (got 13 columns instead of 12)\n    Line #529 (got 13 columns instead of 12)\n    Line #530 (got 13 columns instead of 12)\n    Line #531 (got 13 columns instead of 12)\n    Line #532 (got 13 columns instead of 12)\n    Line #533 (got 13 columns instead of 12)\n    Line #534 (got 13 columns instead of 12)\n    Line #535 (got 13 columns instead of 12)\n    Line #536 (got 13 columns instead of 12)\n    Line #537 (got 13 columns instead of 12)\n    Line #538 (got 13 columns instead of 12)\n    Line #539 (got 13 columns instead of 12)\n    Line #540 (got 13 columns instead of 12)\n    Line #541 (got 13 columns instead of 12)\n    Line #542 (got 13 columns instead of 12)\n    Line #543 (got 13 columns instead of 12)\n    Line #544 (got 13 columns instead of 12)\n    Line #545 (got 13 columns instead of 12)\n    Line #546 (got 13 columns instead of 12)\n    Line #547 (got 13 columns instead of 12)\n    Line #548 (got 13 columns instead of 12)\n    Line #549 (got 13 columns instead of 12)\n    Line #550 (got 13 columns instead of 12)\n    Line #551 (got 13 columns instead of 12)\n    Line #552 (got 13 columns instead of 12)\n    Line #553 (got 13 columns instead of 12)\n    Line #554 (got 13 columns instead of 12)\n    Line #555 (got 13 columns instead of 12)\n    Line #556 (got 13 columns instead of 12)\n    Line #557 (got 13 columns instead of 12)\n    Line #558 (got 13 columns instead of 12)\n    Line #559 (got 13 columns instead of 12)\n    Line #560 (got 13 columns instead of 12)\n    Line #561 (got 13 columns instead of 12)\n    Line #562 (got 13 columns instead of 12)\n    Line #563 (got 13 columns instead of 12)\n    Line #564 (got 13 columns instead of 12)\n    Line #565 (got 13 columns instead of 12)\n    Line #566 (got 13 columns instead of 12)\n    Line #567 (got 13 columns instead of 12)\n    Line #568 (got 13 columns instead of 12)\n    Line #569 (got 13 columns instead of 12)\n    Line #570 (got 13 columns instead of 12)\n    Line #571 (got 13 columns instead of 12)\n    Line #572 (got 13 columns instead of 12)\n    Line #573 (got 13 columns instead of 12)\n    Line #574 (got 13 columns instead of 12)\n    Line #575 (got 13 columns instead of 12)\n    Line #576 (got 13 columns instead of 12)\n    Line #577 (got 13 columns instead of 12)\n    Line #578 (got 13 columns instead of 12)\n    Line #579 (got 13 columns instead of 12)\n    Line #580 (got 13 columns instead of 12)\n    Line #581 (got 13 columns instead of 12)\n    Line #582 (got 13 columns instead of 12)\n    Line #583 (got 13 columns instead of 12)\n    Line #584 (got 13 columns instead of 12)\n    Line #585 (got 13 columns instead of 12)\n    Line #586 (got 13 columns instead of 12)\n    Line #587 (got 13 columns instead of 12)\n    Line #588 (got 13 columns instead of 12)\n    Line #589 (got 13 columns instead of 12)\n    Line #590 (got 13 columns instead of 12)\n    Line #591 (got 13 columns instead of 12)\n    Line #592 (got 13 columns instead of 12)\n    Line #593 (got 13 columns instead of 12)\n    Line #594 (got 13 columns instead of 12)\n    Line #595 (got 13 columns instead of 12)\n    Line #596 (got 13 columns instead of 12)\n    Line #597 (got 13 columns instead of 12)\n    Line #598 (got 13 columns instead of 12)\n    Line #599 (got 13 columns instead of 12)\n    Line #600 (got 13 columns instead of 12)\n    Line #601 (got 13 columns instead of 12)\n    Line #602 (got 13 columns instead of 12)\n    Line #603 (got 13 columns instead of 12)\n    Line #604 (got 13 columns instead of 12)\n    Line #605 (got 13 columns instead of 12)\n    Line #606 (got 13 columns instead of 12)\n    Line #607 (got 13 columns instead of 12)\n    Line #608 (got 13 columns instead of 12)\n    Line #609 (got 13 columns instead of 12)\n    Line #610 (got 13 columns instead of 12)\n    Line #611 (got 13 columns instead of 12)\n    Line #612 (got 13 columns instead of 12)\n    Line #613 (got 13 columns instead of 12)\n    Line #614 (got 13 columns instead of 12)\n    Line #615 (got 13 columns instead of 12)\n    Line #616 (got 13 columns instead of 12)\n    Line #617 (got 13 columns instead of 12)\n    Line #618 (got 13 columns instead of 12)\n    Line #619 (got 13 columns instead of 12)\n    Line #620 (got 13 columns instead of 12)\n    Line #621 (got 13 columns instead of 12)\n    Line #622 (got 13 columns instead of 12)\n    Line #623 (got 13 columns instead of 12)\n    Line #624 (got 13 columns instead of 12)\n    Line #625 (got 13 columns instead of 12)\n    Line #626 (got 13 columns instead of 12)\n    Line #627 (got 13 columns instead of 12)\n    Line #628 (got 13 columns instead of 12)\n    Line #629 (got 13 columns instead of 12)\n    Line #630 (got 13 columns instead of 12)\n    Line #631 (got 13 columns instead of 12)\n    Line #632 (got 13 columns instead of 12)\n    Line #633 (got 13 columns instead of 12)\n    Line #634 (got 13 columns instead of 12)\n    Line #635 (got 13 columns instead of 12)\n    Line #636 (got 13 columns instead of 12)\n    Line #637 (got 13 columns instead of 12)\n    Line #638 (got 13 columns instead of 12)\n    Line #639 (got 13 columns instead of 12)\n    Line #640 (got 13 columns instead of 12)\n    Line #641 (got 13 columns instead of 12)\n    Line #642 (got 13 columns instead of 12)\n    Line #643 (got 13 columns instead of 12)\n    Line #644 (got 13 columns instead of 12)\n    Line #645 (got 13 columns instead of 12)\n    Line #646 (got 13 columns instead of 12)\n    Line #647 (got 13 columns instead of 12)\n    Line #648 (got 13 columns instead of 12)\n    Line #649 (got 13 columns instead of 12)\n    Line #650 (got 13 columns instead of 12)\n    Line #651 (got 13 columns instead of 12)\n    Line #652 (got 13 columns instead of 12)\n    Line #653 (got 13 columns instead of 12)\n    Line #654 (got 13 columns instead of 12)\n    Line #655 (got 13 columns instead of 12)\n    Line #656 (got 13 columns instead of 12)\n    Line #657 (got 13 columns instead of 12)\n    Line #658 (got 13 columns instead of 12)\n    Line #659 (got 13 columns instead of 12)\n    Line #660 (got 13 columns instead of 12)\n    Line #661 (got 13 columns instead of 12)\n    Line #662 (got 13 columns instead of 12)\n    Line #663 (got 13 columns instead of 12)\n    Line #664 (got 13 columns instead of 12)\n    Line #665 (got 13 columns instead of 12)\n    Line #666 (got 13 columns instead of 12)\n    Line #667 (got 13 columns instead of 12)\n    Line #668 (got 13 columns instead of 12)\n    Line #669 (got 13 columns instead of 12)\n    Line #670 (got 13 columns instead of 12)\n    Line #671 (got 13 columns instead of 12)\n    Line #672 (got 13 columns instead of 12)\n    Line #673 (got 13 columns instead of 12)\n    Line #674 (got 13 columns instead of 12)\n    Line #675 (got 13 columns instead of 12)\n    Line #676 (got 13 columns instead of 12)\n    Line #677 (got 13 columns instead of 12)\n    Line #678 (got 13 columns instead of 12)\n    Line #679 (got 13 columns instead of 12)\n    Line #680 (got 13 columns instead of 12)\n    Line #681 (got 13 columns instead of 12)\n    Line #682 (got 13 columns instead of 12)\n    Line #683 (got 13 columns instead of 12)\n    Line #684 (got 13 columns instead of 12)\n    Line #685 (got 13 columns instead of 12)\n    Line #686 (got 13 columns instead of 12)\n    Line #687 (got 13 columns instead of 12)\n    Line #688 (got 13 columns instead of 12)\n    Line #689 (got 13 columns instead of 12)\n    Line #690 (got 13 columns instead of 12)\n    Line #691 (got 13 columns instead of 12)\n    Line #692 (got 13 columns instead of 12)\n    Line #693 (got 13 columns instead of 12)\n    Line #694 (got 13 columns instead of 12)\n    Line #695 (got 13 columns instead of 12)\n    Line #696 (got 13 columns instead of 12)\n    Line #697 (got 13 columns instead of 12)\n    Line #698 (got 13 columns instead of 12)\n    Line #699 (got 13 columns instead of 12)\n    Line #700 (got 13 columns instead of 12)\n    Line #701 (got 13 columns instead of 12)\n    Line #702 (got 13 columns instead of 12)\n    Line #703 (got 13 columns instead of 12)\n    Line #704 (got 13 columns instead of 12)\n    Line #705 (got 13 columns instead of 12)\n    Line #706 (got 13 columns instead of 12)\n    Line #707 (got 13 columns instead of 12)\n    Line #708 (got 13 columns instead of 12)\n    Line #709 (got 13 columns instead of 12)\n    Line #710 (got 13 columns instead of 12)\n    Line #711 (got 13 columns instead of 12)\n    Line #712 (got 13 columns instead of 12)\n    Line #713 (got 13 columns instead of 12)\n    Line #714 (got 13 columns instead of 12)\n    Line #715 (got 13 columns instead of 12)\n    Line #716 (got 13 columns instead of 12)\n    Line #717 (got 13 columns instead of 12)\n    Line #718 (got 13 columns instead of 12)\n    Line #719 (got 13 columns instead of 12)\n    Line #720 (got 13 columns instead of 12)\n    Line #721 (got 13 columns instead of 12)\n    Line #722 (got 13 columns instead of 12)\n    Line #723 (got 13 columns instead of 12)\n    Line #724 (got 13 columns instead of 12)\n    Line #725 (got 13 columns instead of 12)\n    Line #726 (got 13 columns instead of 12)\n    Line #727 (got 13 columns instead of 12)\n    Line #728 (got 13 columns instead of 12)\n    Line #729 (got 13 columns instead of 12)\n    Line #730 (got 13 columns instead of 12)\n    Line #731 (got 13 columns instead of 12)\n    Line #732 (got 13 columns instead of 12)\n    Line #733 (got 13 columns instead of 12)\n    Line #734 (got 13 columns instead of 12)\n    Line #735 (got 13 columns instead of 12)\n    Line #736 (got 13 columns instead of 12)\n    Line #737 (got 13 columns instead of 12)\n    Line #738 (got 13 columns instead of 12)\n    Line #739 (got 13 columns instead of 12)\n    Line #740 (got 13 columns instead of 12)\n    Line #741 (got 13 columns instead of 12)\n    Line #742 (got 13 columns instead of 12)\n    Line #743 (got 13 columns instead of 12)\n    Line #744 (got 13 columns instead of 12)\n    Line #745 (got 13 columns instead of 12)\n    Line #746 (got 13 columns instead of 12)\n    Line #747 (got 13 columns instead of 12)\n    Line #748 (got 13 columns instead of 12)\n    Line #749 (got 13 columns instead of 12)\n    Line #750 (got 13 columns instead of 12)\n    Line #751 (got 13 columns instead of 12)\n    Line #752 (got 13 columns instead of 12)\n    Line #753 (got 13 columns instead of 12)\n    Line #754 (got 13 columns instead of 12)\n    Line #755 (got 13 columns instead of 12)\n    Line #756 (got 13 columns instead of 12)\n    Line #757 (got 13 columns instead of 12)\n    Line #758 (got 13 columns instead of 12)\n    Line #759 (got 13 columns instead of 12)\n    Line #760 (got 13 columns instead of 12)\n    Line #761 (got 13 columns instead of 12)\n    Line #762 (got 13 columns instead of 12)\n    Line #763 (got 13 columns instead of 12)\n    Line #764 (got 13 columns instead of 12)\n    Line #765 (got 13 columns instead of 12)\n    Line #766 (got 13 columns instead of 12)\n    Line #767 (got 13 columns instead of 12)\n    Line #768 (got 13 columns instead of 12)\n    Line #769 (got 13 columns instead of 12)\n    Line #770 (got 13 columns instead of 12)\n    Line #771 (got 13 columns instead of 12)\n    Line #772 (got 13 columns instead of 12)\n    Line #773 (got 13 columns instead of 12)\n    Line #774 (got 13 columns instead of 12)\n    Line #775 (got 13 columns instead of 12)\n    Line #776 (got 13 columns instead of 12)\n    Line #777 (got 13 columns instead of 12)\n    Line #778 (got 13 columns instead of 12)\n    Line #779 (got 13 columns instead of 12)\n    Line #780 (got 13 columns instead of 12)\n    Line #781 (got 13 columns instead of 12)\n    Line #782 (got 13 columns instead of 12)\n    Line #783 (got 13 columns instead of 12)\n    Line #784 (got 13 columns instead of 12)\n    Line #785 (got 13 columns instead of 12)\n    Line #786 (got 13 columns instead of 12)\n    Line #787 (got 13 columns instead of 12)\n    Line #788 (got 13 columns instead of 12)\n    Line #789 (got 13 columns instead of 12)\n    Line #790 (got 13 columns instead of 12)\n    Line #791 (got 13 columns instead of 12)\n    Line #792 (got 13 columns instead of 12)\n    Line #793 (got 13 columns instead of 12)\n    Line #794 (got 13 columns instead of 12)\n    Line #795 (got 13 columns instead of 12)\n    Line #796 (got 13 columns instead of 12)\n    Line #797 (got 13 columns instead of 12)\n    Line #798 (got 13 columns instead of 12)\n    Line #799 (got 13 columns instead of 12)\n    Line #800 (got 13 columns instead of 12)\n    Line #801 (got 13 columns instead of 12)\n    Line #802 (got 13 columns instead of 12)\n    Line #803 (got 13 columns instead of 12)\n    Line #804 (got 13 columns instead of 12)\n    Line #805 (got 13 columns instead of 12)\n    Line #806 (got 13 columns instead of 12)\n    Line #807 (got 13 columns instead of 12)\n    Line #808 (got 13 columns instead of 12)\n    Line #809 (got 13 columns instead of 12)\n    Line #810 (got 13 columns instead of 12)\n    Line #811 (got 13 columns instead of 12)\n    Line #812 (got 13 columns instead of 12)\n    Line #813 (got 13 columns instead of 12)\n    Line #814 (got 13 columns instead of 12)\n    Line #815 (got 13 columns instead of 12)\n    Line #816 (got 13 columns instead of 12)\n    Line #817 (got 13 columns instead of 12)\n    Line #818 (got 13 columns instead of 12)\n    Line #819 (got 13 columns instead of 12)\n    Line #820 (got 13 columns instead of 12)\n    Line #821 (got 13 columns instead of 12)\n    Line #822 (got 13 columns instead of 12)\n    Line #823 (got 13 columns instead of 12)\n    Line #824 (got 13 columns instead of 12)\n    Line #825 (got 13 columns instead of 12)\n    Line #826 (got 13 columns instead of 12)\n    Line #827 (got 13 columns instead of 12)\n    Line #828 (got 13 columns instead of 12)\n    Line #829 (got 13 columns instead of 12)\n    Line #830 (got 13 columns instead of 12)\n    Line #831 (got 13 columns instead of 12)\n    Line #832 (got 13 columns instead of 12)\n    Line #833 (got 13 columns instead of 12)\n    Line #834 (got 13 columns instead of 12)\n    Line #835 (got 13 columns instead of 12)\n    Line #836 (got 13 columns instead of 12)\n    Line #837 (got 13 columns instead of 12)\n    Line #838 (got 13 columns instead of 12)\n    Line #839 (got 13 columns instead of 12)\n    Line #840 (got 13 columns instead of 12)\n    Line #841 (got 13 columns instead of 12)\n    Line #842 (got 13 columns instead of 12)\n    Line #843 (got 13 columns instead of 12)\n    Line #844 (got 13 columns instead of 12)\n    Line #845 (got 13 columns instead of 12)\n    Line #846 (got 13 columns instead of 12)\n    Line #847 (got 13 columns instead of 12)\n    Line #848 (got 13 columns instead of 12)\n    Line #849 (got 13 columns instead of 12)\n    Line #850 (got 13 columns instead of 12)\n    Line #851 (got 13 columns instead of 12)\n    Line #852 (got 13 columns instead of 12)\n    Line #853 (got 13 columns instead of 12)\n    Line #854 (got 13 columns instead of 12)\n    Line #855 (got 13 columns instead of 12)\n    Line #856 (got 13 columns instead of 12)\n    Line #857 (got 13 columns instead of 12)\n    Line #858 (got 13 columns instead of 12)\n    Line #859 (got 13 columns instead of 12)\n    Line #860 (got 13 columns instead of 12)\n    Line #861 (got 13 columns instead of 12)\n    Line #862 (got 13 columns instead of 12)\n    Line #863 (got 13 columns instead of 12)\n    Line #864 (got 13 columns instead of 12)\n    Line #865 (got 13 columns instead of 12)\n    Line #866 (got 13 columns instead of 12)\n    Line #867 (got 13 columns instead of 12)\n    Line #868 (got 13 columns instead of 12)\n    Line #869 (got 13 columns instead of 12)\n    Line #870 (got 13 columns instead of 12)\n    Line #871 (got 13 columns instead of 12)\n    Line #872 (got 13 columns instead of 12)\n    Line #873 (got 13 columns instead of 12)\n    Line #874 (got 13 columns instead of 12)\n    Line #875 (got 13 columns instead of 12)\n    Line #876 (got 13 columns instead of 12)\n    Line #877 (got 13 columns instead of 12)\n    Line #878 (got 13 columns instead of 12)\n    Line #879 (got 13 columns instead of 12)\n    Line #880 (got 13 columns instead of 12)\n    Line #881 (got 13 columns instead of 12)\n    Line #882 (got 13 columns instead of 12)\n    Line #883 (got 13 columns instead of 12)\n    Line #884 (got 13 columns instead of 12)\n    Line #885 (got 13 columns instead of 12)\n    Line #886 (got 13 columns instead of 12)\n    Line #887 (got 13 columns instead of 12)\n    Line #888 (got 13 columns instead of 12)\n    Line #889 (got 13 columns instead of 12)\n    Line #890 (got 13 columns instead of 12)\n    Line #891 (got 13 columns instead of 12)\n    Line #892 (got 13 columns instead of 12)",
     "output_type": "error",
     "traceback": [
      "\u001b[0;31m---------------------------------------------------------------------------\u001b[0m",
      "\u001b[0;31mValueError\u001b[0m                                Traceback (most recent call last)",
      "\u001b[0;32m<ipython-input-297-075be21304e5>\u001b[0m in \u001b[0;36m<module>\u001b[0;34m()\u001b[0m\n\u001b[0;32m----> 1\u001b[0;31m \u001b[0mdata\u001b[0m \u001b[0;34m=\u001b[0m \u001b[0mnp\u001b[0m\u001b[0;34m.\u001b[0m\u001b[0mgenfromtxt\u001b[0m\u001b[0;34m(\u001b[0m\u001b[0;34m'01_data.csv'\u001b[0m\u001b[0;34m,\u001b[0m\u001b[0mdelimiter\u001b[0m\u001b[0;34m=\u001b[0m\u001b[0;34m','\u001b[0m\u001b[0;34m,\u001b[0m\u001b[0mnames\u001b[0m\u001b[0;34m=\u001b[0m\u001b[0;32mTrue\u001b[0m\u001b[0;34m)\u001b[0m\u001b[0;34m\u001b[0m\u001b[0m\n\u001b[0m",
      "\u001b[0;32m/anaconda3/lib/python3.6/site-packages/numpy/lib/npyio.py\u001b[0m in \u001b[0;36mgenfromtxt\u001b[0;34m(fname, dtype, comments, delimiter, skip_header, skip_footer, converters, missing_values, filling_values, usecols, names, excludelist, deletechars, replace_space, autostrip, case_sensitive, defaultfmt, unpack, usemask, loose, invalid_raise, max_rows, encoding)\u001b[0m\n\u001b[1;32m   2012\u001b[0m             \u001b[0;31m# Raise an exception ?\u001b[0m\u001b[0;34m\u001b[0m\u001b[0;34m\u001b[0m\u001b[0m\n\u001b[1;32m   2013\u001b[0m             \u001b[0;32mif\u001b[0m \u001b[0minvalid_raise\u001b[0m\u001b[0;34m:\u001b[0m\u001b[0;34m\u001b[0m\u001b[0m\n\u001b[0;32m-> 2014\u001b[0;31m                 \u001b[0;32mraise\u001b[0m \u001b[0mValueError\u001b[0m\u001b[0;34m(\u001b[0m\u001b[0merrmsg\u001b[0m\u001b[0;34m)\u001b[0m\u001b[0;34m\u001b[0m\u001b[0m\n\u001b[0m\u001b[1;32m   2015\u001b[0m             \u001b[0;31m# Issue a warning ?\u001b[0m\u001b[0;34m\u001b[0m\u001b[0;34m\u001b[0m\u001b[0m\n\u001b[1;32m   2016\u001b[0m             \u001b[0;32melse\u001b[0m\u001b[0;34m:\u001b[0m\u001b[0;34m\u001b[0m\u001b[0m\n",
      "\u001b[0;31mValueError\u001b[0m: Some errors were detected !\n    Line #2 (got 13 columns instead of 12)\n    Line #3 (got 13 columns instead of 12)\n    Line #4 (got 13 columns instead of 12)\n    Line #5 (got 13 columns instead of 12)\n    Line #6 (got 13 columns instead of 12)\n    Line #7 (got 13 columns instead of 12)\n    Line #8 (got 13 columns instead of 12)\n    Line #9 (got 13 columns instead of 12)\n    Line #10 (got 13 columns instead of 12)\n    Line #11 (got 13 columns instead of 12)\n    Line #12 (got 13 columns instead of 12)\n    Line #13 (got 13 columns instead of 12)\n    Line #14 (got 13 columns instead of 12)\n    Line #15 (got 13 columns instead of 12)\n    Line #16 (got 13 columns instead of 12)\n    Line #17 (got 13 columns instead of 12)\n    Line #18 (got 13 columns instead of 12)\n    Line #19 (got 13 columns instead of 12)\n    Line #20 (got 13 columns instead of 12)\n    Line #21 (got 13 columns instead of 12)\n    Line #22 (got 13 columns instead of 12)\n    Line #23 (got 13 columns instead of 12)\n    Line #24 (got 13 columns instead of 12)\n    Line #25 (got 13 columns instead of 12)\n    Line #26 (got 13 columns instead of 12)\n    Line #27 (got 13 columns instead of 12)\n    Line #28 (got 13 columns instead of 12)\n    Line #29 (got 13 columns instead of 12)\n    Line #30 (got 13 columns instead of 12)\n    Line #31 (got 13 columns instead of 12)\n    Line #32 (got 13 columns instead of 12)\n    Line #33 (got 13 columns instead of 12)\n    Line #34 (got 13 columns instead of 12)\n    Line #35 (got 13 columns instead of 12)\n    Line #36 (got 13 columns instead of 12)\n    Line #37 (got 13 columns instead of 12)\n    Line #38 (got 13 columns instead of 12)\n    Line #39 (got 13 columns instead of 12)\n    Line #40 (got 13 columns instead of 12)\n    Line #41 (got 13 columns instead of 12)\n    Line #42 (got 13 columns instead of 12)\n    Line #43 (got 13 columns instead of 12)\n    Line #44 (got 13 columns instead of 12)\n    Line #45 (got 13 columns instead of 12)\n    Line #46 (got 13 columns instead of 12)\n    Line #47 (got 13 columns instead of 12)\n    Line #48 (got 13 columns instead of 12)\n    Line #49 (got 13 columns instead of 12)\n    Line #50 (got 13 columns instead of 12)\n    Line #51 (got 13 columns instead of 12)\n    Line #52 (got 13 columns instead of 12)\n    Line #53 (got 13 columns instead of 12)\n    Line #54 (got 13 columns instead of 12)\n    Line #55 (got 13 columns instead of 12)\n    Line #56 (got 13 columns instead of 12)\n    Line #57 (got 13 columns instead of 12)\n    Line #58 (got 13 columns instead of 12)\n    Line #59 (got 13 columns instead of 12)\n    Line #60 (got 13 columns instead of 12)\n    Line #61 (got 13 columns instead of 12)\n    Line #62 (got 13 columns instead of 12)\n    Line #63 (got 13 columns instead of 12)\n    Line #64 (got 13 columns instead of 12)\n    Line #65 (got 13 columns instead of 12)\n    Line #66 (got 13 columns instead of 12)\n    Line #67 (got 13 columns instead of 12)\n    Line #68 (got 13 columns instead of 12)\n    Line #69 (got 13 columns instead of 12)\n    Line #70 (got 13 columns instead of 12)\n    Line #71 (got 13 columns instead of 12)\n    Line #72 (got 13 columns instead of 12)\n    Line #73 (got 13 columns instead of 12)\n    Line #74 (got 13 columns instead of 12)\n    Line #75 (got 13 columns instead of 12)\n    Line #76 (got 13 columns instead of 12)\n    Line #77 (got 13 columns instead of 12)\n    Line #78 (got 13 columns instead of 12)\n    Line #79 (got 13 columns instead of 12)\n    Line #80 (got 13 columns instead of 12)\n    Line #81 (got 13 columns instead of 12)\n    Line #82 (got 13 columns instead of 12)\n    Line #83 (got 13 columns instead of 12)\n    Line #84 (got 13 columns instead of 12)\n    Line #85 (got 13 columns instead of 12)\n    Line #86 (got 13 columns instead of 12)\n    Line #87 (got 13 columns instead of 12)\n    Line #88 (got 13 columns instead of 12)\n    Line #89 (got 13 columns instead of 12)\n    Line #90 (got 13 columns instead of 12)\n    Line #91 (got 13 columns instead of 12)\n    Line #92 (got 13 columns instead of 12)\n    Line #93 (got 13 columns instead of 12)\n    Line #94 (got 13 columns instead of 12)\n    Line #95 (got 13 columns instead of 12)\n    Line #96 (got 13 columns instead of 12)\n    Line #97 (got 13 columns instead of 12)\n    Line #98 (got 13 columns instead of 12)\n    Line #99 (got 13 columns instead of 12)\n    Line #100 (got 13 columns instead of 12)\n    Line #101 (got 13 columns instead of 12)\n    Line #102 (got 13 columns instead of 12)\n    Line #103 (got 13 columns instead of 12)\n    Line #104 (got 13 columns instead of 12)\n    Line #105 (got 13 columns instead of 12)\n    Line #106 (got 13 columns instead of 12)\n    Line #107 (got 13 columns instead of 12)\n    Line #108 (got 13 columns instead of 12)\n    Line #109 (got 13 columns instead of 12)\n    Line #110 (got 13 columns instead of 12)\n    Line #111 (got 13 columns instead of 12)\n    Line #112 (got 13 columns instead of 12)\n    Line #113 (got 13 columns instead of 12)\n    Line #114 (got 13 columns instead of 12)\n    Line #115 (got 13 columns instead of 12)\n    Line #116 (got 13 columns instead of 12)\n    Line #117 (got 13 columns instead of 12)\n    Line #118 (got 13 columns instead of 12)\n    Line #119 (got 13 columns instead of 12)\n    Line #120 (got 13 columns instead of 12)\n    Line #121 (got 13 columns instead of 12)\n    Line #122 (got 13 columns instead of 12)\n    Line #123 (got 13 columns instead of 12)\n    Line #124 (got 13 columns instead of 12)\n    Line #125 (got 13 columns instead of 12)\n    Line #126 (got 13 columns instead of 12)\n    Line #127 (got 13 columns instead of 12)\n    Line #128 (got 13 columns instead of 12)\n    Line #129 (got 13 columns instead of 12)\n    Line #130 (got 13 columns instead of 12)\n    Line #131 (got 13 columns instead of 12)\n    Line #132 (got 13 columns instead of 12)\n    Line #133 (got 13 columns instead of 12)\n    Line #134 (got 13 columns instead of 12)\n    Line #135 (got 13 columns instead of 12)\n    Line #136 (got 13 columns instead of 12)\n    Line #137 (got 13 columns instead of 12)\n    Line #138 (got 13 columns instead of 12)\n    Line #139 (got 13 columns instead of 12)\n    Line #140 (got 13 columns instead of 12)\n    Line #141 (got 13 columns instead of 12)\n    Line #142 (got 13 columns instead of 12)\n    Line #143 (got 13 columns instead of 12)\n    Line #144 (got 13 columns instead of 12)\n    Line #145 (got 13 columns instead of 12)\n    Line #146 (got 13 columns instead of 12)\n    Line #147 (got 13 columns instead of 12)\n    Line #148 (got 13 columns instead of 12)\n    Line #149 (got 13 columns instead of 12)\n    Line #150 (got 13 columns instead of 12)\n    Line #151 (got 13 columns instead of 12)\n    Line #152 (got 13 columns instead of 12)\n    Line #153 (got 13 columns instead of 12)\n    Line #154 (got 13 columns instead of 12)\n    Line #155 (got 13 columns instead of 12)\n    Line #156 (got 13 columns instead of 12)\n    Line #157 (got 13 columns instead of 12)\n    Line #158 (got 13 columns instead of 12)\n    Line #159 (got 13 columns instead of 12)\n    Line #160 (got 13 columns instead of 12)\n    Line #161 (got 13 columns instead of 12)\n    Line #162 (got 13 columns instead of 12)\n    Line #163 (got 13 columns instead of 12)\n    Line #164 (got 13 columns instead of 12)\n    Line #165 (got 13 columns instead of 12)\n    Line #166 (got 13 columns instead of 12)\n    Line #167 (got 13 columns instead of 12)\n    Line #168 (got 13 columns instead of 12)\n    Line #169 (got 13 columns instead of 12)\n    Line #170 (got 13 columns instead of 12)\n    Line #171 (got 13 columns instead of 12)\n    Line #172 (got 13 columns instead of 12)\n    Line #173 (got 13 columns instead of 12)\n    Line #174 (got 13 columns instead of 12)\n    Line #175 (got 13 columns instead of 12)\n    Line #176 (got 13 columns instead of 12)\n    Line #177 (got 13 columns instead of 12)\n    Line #178 (got 13 columns instead of 12)\n    Line #179 (got 13 columns instead of 12)\n    Line #180 (got 13 columns instead of 12)\n    Line #181 (got 13 columns instead of 12)\n    Line #182 (got 13 columns instead of 12)\n    Line #183 (got 13 columns instead of 12)\n    Line #184 (got 13 columns instead of 12)\n    Line #185 (got 13 columns instead of 12)\n    Line #186 (got 13 columns instead of 12)\n    Line #187 (got 13 columns instead of 12)\n    Line #188 (got 13 columns instead of 12)\n    Line #189 (got 13 columns instead of 12)\n    Line #190 (got 13 columns instead of 12)\n    Line #191 (got 13 columns instead of 12)\n    Line #192 (got 13 columns instead of 12)\n    Line #193 (got 13 columns instead of 12)\n    Line #194 (got 13 columns instead of 12)\n    Line #195 (got 13 columns instead of 12)\n    Line #196 (got 13 columns instead of 12)\n    Line #197 (got 13 columns instead of 12)\n    Line #198 (got 13 columns instead of 12)\n    Line #199 (got 13 columns instead of 12)\n    Line #200 (got 13 columns instead of 12)\n    Line #201 (got 13 columns instead of 12)\n    Line #202 (got 13 columns instead of 12)\n    Line #203 (got 13 columns instead of 12)\n    Line #204 (got 13 columns instead of 12)\n    Line #205 (got 13 columns instead of 12)\n    Line #206 (got 13 columns instead of 12)\n    Line #207 (got 13 columns instead of 12)\n    Line #208 (got 13 columns instead of 12)\n    Line #209 (got 13 columns instead of 12)\n    Line #210 (got 13 columns instead of 12)\n    Line #211 (got 13 columns instead of 12)\n    Line #212 (got 13 columns instead of 12)\n    Line #213 (got 13 columns instead of 12)\n    Line #214 (got 13 columns instead of 12)\n    Line #215 (got 13 columns instead of 12)\n    Line #216 (got 13 columns instead of 12)\n    Line #217 (got 13 columns instead of 12)\n    Line #218 (got 13 columns instead of 12)\n    Line #219 (got 13 columns instead of 12)\n    Line #220 (got 13 columns instead of 12)\n    Line #221 (got 13 columns instead of 12)\n    Line #222 (got 13 columns instead of 12)\n    Line #223 (got 13 columns instead of 12)\n    Line #224 (got 13 columns instead of 12)\n    Line #225 (got 13 columns instead of 12)\n    Line #226 (got 13 columns instead of 12)\n    Line #227 (got 13 columns instead of 12)\n    Line #228 (got 13 columns instead of 12)\n    Line #229 (got 13 columns instead of 12)\n    Line #230 (got 13 columns instead of 12)\n    Line #231 (got 13 columns instead of 12)\n    Line #232 (got 13 columns instead of 12)\n    Line #233 (got 13 columns instead of 12)\n    Line #234 (got 13 columns instead of 12)\n    Line #235 (got 13 columns instead of 12)\n    Line #236 (got 13 columns instead of 12)\n    Line #237 (got 13 columns instead of 12)\n    Line #238 (got 13 columns instead of 12)\n    Line #239 (got 13 columns instead of 12)\n    Line #240 (got 13 columns instead of 12)\n    Line #241 (got 13 columns instead of 12)\n    Line #242 (got 13 columns instead of 12)\n    Line #243 (got 13 columns instead of 12)\n    Line #244 (got 13 columns instead of 12)\n    Line #245 (got 13 columns instead of 12)\n    Line #246 (got 13 columns instead of 12)\n    Line #247 (got 13 columns instead of 12)\n    Line #248 (got 13 columns instead of 12)\n    Line #249 (got 13 columns instead of 12)\n    Line #250 (got 13 columns instead of 12)\n    Line #251 (got 13 columns instead of 12)\n    Line #252 (got 13 columns instead of 12)\n    Line #253 (got 13 columns instead of 12)\n    Line #254 (got 13 columns instead of 12)\n    Line #255 (got 13 columns instead of 12)\n    Line #256 (got 13 columns instead of 12)\n    Line #257 (got 13 columns instead of 12)\n    Line #258 (got 13 columns instead of 12)\n    Line #259 (got 13 columns instead of 12)\n    Line #260 (got 13 columns instead of 12)\n    Line #261 (got 13 columns instead of 12)\n    Line #262 (got 13 columns instead of 12)\n    Line #263 (got 13 columns instead of 12)\n    Line #264 (got 13 columns instead of 12)\n    Line #265 (got 13 columns instead of 12)\n    Line #266 (got 13 columns instead of 12)\n    Line #267 (got 13 columns instead of 12)\n    Line #268 (got 13 columns instead of 12)\n    Line #269 (got 13 columns instead of 12)\n    Line #270 (got 13 columns instead of 12)\n    Line #271 (got 13 columns instead of 12)\n    Line #272 (got 13 columns instead of 12)\n    Line #273 (got 13 columns instead of 12)\n    Line #274 (got 13 columns instead of 12)\n    Line #275 (got 13 columns instead of 12)\n    Line #276 (got 13 columns instead of 12)\n    Line #277 (got 13 columns instead of 12)\n    Line #278 (got 13 columns instead of 12)\n    Line #279 (got 13 columns instead of 12)\n    Line #280 (got 13 columns instead of 12)\n    Line #281 (got 13 columns instead of 12)\n    Line #282 (got 13 columns instead of 12)\n    Line #283 (got 13 columns instead of 12)\n    Line #284 (got 13 columns instead of 12)\n    Line #285 (got 13 columns instead of 12)\n    Line #286 (got 13 columns instead of 12)\n    Line #287 (got 13 columns instead of 12)\n    Line #288 (got 13 columns instead of 12)\n    Line #289 (got 13 columns instead of 12)\n    Line #290 (got 13 columns instead of 12)\n    Line #291 (got 13 columns instead of 12)\n    Line #292 (got 13 columns instead of 12)\n    Line #293 (got 13 columns instead of 12)\n    Line #294 (got 13 columns instead of 12)\n    Line #295 (got 13 columns instead of 12)\n    Line #296 (got 13 columns instead of 12)\n    Line #297 (got 13 columns instead of 12)\n    Line #298 (got 13 columns instead of 12)\n    Line #299 (got 13 columns instead of 12)\n    Line #300 (got 13 columns instead of 12)\n    Line #301 (got 13 columns instead of 12)\n    Line #302 (got 13 columns instead of 12)\n    Line #303 (got 13 columns instead of 12)\n    Line #304 (got 13 columns instead of 12)\n    Line #305 (got 13 columns instead of 12)\n    Line #306 (got 13 columns instead of 12)\n    Line #307 (got 13 columns instead of 12)\n    Line #308 (got 13 columns instead of 12)\n    Line #309 (got 13 columns instead of 12)\n    Line #310 (got 13 columns instead of 12)\n    Line #311 (got 13 columns instead of 12)\n    Line #312 (got 13 columns instead of 12)\n    Line #313 (got 13 columns instead of 12)\n    Line #314 (got 13 columns instead of 12)\n    Line #315 (got 13 columns instead of 12)\n    Line #316 (got 13 columns instead of 12)\n    Line #317 (got 13 columns instead of 12)\n    Line #318 (got 13 columns instead of 12)\n    Line #319 (got 13 columns instead of 12)\n    Line #320 (got 13 columns instead of 12)\n    Line #321 (got 13 columns instead of 12)\n    Line #322 (got 13 columns instead of 12)\n    Line #323 (got 13 columns instead of 12)\n    Line #324 (got 13 columns instead of 12)\n    Line #325 (got 13 columns instead of 12)\n    Line #326 (got 13 columns instead of 12)\n    Line #327 (got 13 columns instead of 12)\n    Line #328 (got 13 columns instead of 12)\n    Line #329 (got 13 columns instead of 12)\n    Line #330 (got 13 columns instead of 12)\n    Line #331 (got 13 columns instead of 12)\n    Line #332 (got 13 columns instead of 12)\n    Line #333 (got 13 columns instead of 12)\n    Line #334 (got 13 columns instead of 12)\n    Line #335 (got 13 columns instead of 12)\n    Line #336 (got 13 columns instead of 12)\n    Line #337 (got 13 columns instead of 12)\n    Line #338 (got 13 columns instead of 12)\n    Line #339 (got 13 columns instead of 12)\n    Line #340 (got 13 columns instead of 12)\n    Line #341 (got 13 columns instead of 12)\n    Line #342 (got 13 columns instead of 12)\n    Line #343 (got 13 columns instead of 12)\n    Line #344 (got 13 columns instead of 12)\n    Line #345 (got 13 columns instead of 12)\n    Line #346 (got 13 columns instead of 12)\n    Line #347 (got 13 columns instead of 12)\n    Line #348 (got 13 columns instead of 12)\n    Line #349 (got 13 columns instead of 12)\n    Line #350 (got 13 columns instead of 12)\n    Line #351 (got 13 columns instead of 12)\n    Line #352 (got 13 columns instead of 12)\n    Line #353 (got 13 columns instead of 12)\n    Line #354 (got 13 columns instead of 12)\n    Line #355 (got 13 columns instead of 12)\n    Line #356 (got 13 columns instead of 12)\n    Line #357 (got 13 columns instead of 12)\n    Line #358 (got 13 columns instead of 12)\n    Line #359 (got 13 columns instead of 12)\n    Line #360 (got 13 columns instead of 12)\n    Line #361 (got 13 columns instead of 12)\n    Line #362 (got 13 columns instead of 12)\n    Line #363 (got 13 columns instead of 12)\n    Line #364 (got 13 columns instead of 12)\n    Line #365 (got 13 columns instead of 12)\n    Line #366 (got 13 columns instead of 12)\n    Line #367 (got 13 columns instead of 12)\n    Line #368 (got 13 columns instead of 12)\n    Line #369 (got 13 columns instead of 12)\n    Line #370 (got 13 columns instead of 12)\n    Line #371 (got 13 columns instead of 12)\n    Line #372 (got 13 columns instead of 12)\n    Line #373 (got 13 columns instead of 12)\n    Line #374 (got 13 columns instead of 12)\n    Line #375 (got 13 columns instead of 12)\n    Line #376 (got 13 columns instead of 12)\n    Line #377 (got 13 columns instead of 12)\n    Line #378 (got 13 columns instead of 12)\n    Line #379 (got 13 columns instead of 12)\n    Line #380 (got 13 columns instead of 12)\n    Line #381 (got 13 columns instead of 12)\n    Line #382 (got 13 columns instead of 12)\n    Line #383 (got 13 columns instead of 12)\n    Line #384 (got 13 columns instead of 12)\n    Line #385 (got 13 columns instead of 12)\n    Line #386 (got 13 columns instead of 12)\n    Line #387 (got 13 columns instead of 12)\n    Line #388 (got 13 columns instead of 12)\n    Line #389 (got 13 columns instead of 12)\n    Line #390 (got 13 columns instead of 12)\n    Line #391 (got 13 columns instead of 12)\n    Line #392 (got 13 columns instead of 12)\n    Line #393 (got 13 columns instead of 12)\n    Line #394 (got 13 columns instead of 12)\n    Line #395 (got 13 columns instead of 12)\n    Line #396 (got 13 columns instead of 12)\n    Line #397 (got 13 columns instead of 12)\n    Line #398 (got 13 columns instead of 12)\n    Line #399 (got 13 columns instead of 12)\n    Line #400 (got 13 columns instead of 12)\n    Line #401 (got 13 columns instead of 12)\n    Line #402 (got 13 columns instead of 12)\n    Line #403 (got 13 columns instead of 12)\n    Line #404 (got 13 columns instead of 12)\n    Line #405 (got 13 columns instead of 12)\n    Line #406 (got 13 columns instead of 12)\n    Line #407 (got 13 columns instead of 12)\n    Line #408 (got 13 columns instead of 12)\n    Line #409 (got 13 columns instead of 12)\n    Line #410 (got 13 columns instead of 12)\n    Line #411 (got 13 columns instead of 12)\n    Line #412 (got 13 columns instead of 12)\n    Line #413 (got 13 columns instead of 12)\n    Line #414 (got 13 columns instead of 12)\n    Line #415 (got 13 columns instead of 12)\n    Line #416 (got 13 columns instead of 12)\n    Line #417 (got 13 columns instead of 12)\n    Line #418 (got 13 columns instead of 12)\n    Line #419 (got 13 columns instead of 12)\n    Line #420 (got 13 columns instead of 12)\n    Line #421 (got 13 columns instead of 12)\n    Line #422 (got 13 columns instead of 12)\n    Line #423 (got 13 columns instead of 12)\n    Line #424 (got 13 columns instead of 12)\n    Line #425 (got 13 columns instead of 12)\n    Line #426 (got 13 columns instead of 12)\n    Line #427 (got 13 columns instead of 12)\n    Line #428 (got 13 columns instead of 12)\n    Line #429 (got 13 columns instead of 12)\n    Line #430 (got 13 columns instead of 12)\n    Line #431 (got 13 columns instead of 12)\n    Line #432 (got 13 columns instead of 12)\n    Line #433 (got 13 columns instead of 12)\n    Line #434 (got 13 columns instead of 12)\n    Line #435 (got 13 columns instead of 12)\n    Line #436 (got 13 columns instead of 12)\n    Line #437 (got 13 columns instead of 12)\n    Line #438 (got 13 columns instead of 12)\n    Line #439 (got 13 columns instead of 12)\n    Line #440 (got 13 columns instead of 12)\n    Line #441 (got 13 columns instead of 12)\n    Line #442 (got 13 columns instead of 12)\n    Line #443 (got 13 columns instead of 12)\n    Line #444 (got 13 columns instead of 12)\n    Line #445 (got 13 columns instead of 12)\n    Line #446 (got 13 columns instead of 12)\n    Line #447 (got 13 columns instead of 12)\n    Line #448 (got 13 columns instead of 12)\n    Line #449 (got 13 columns instead of 12)\n    Line #450 (got 13 columns instead of 12)\n    Line #451 (got 13 columns instead of 12)\n    Line #452 (got 13 columns instead of 12)\n    Line #453 (got 13 columns instead of 12)\n    Line #454 (got 13 columns instead of 12)\n    Line #455 (got 13 columns instead of 12)\n    Line #456 (got 13 columns instead of 12)\n    Line #457 (got 13 columns instead of 12)\n    Line #458 (got 13 columns instead of 12)\n    Line #459 (got 13 columns instead of 12)\n    Line #460 (got 13 columns instead of 12)\n    Line #461 (got 13 columns instead of 12)\n    Line #462 (got 13 columns instead of 12)\n    Line #463 (got 13 columns instead of 12)\n    Line #464 (got 13 columns instead of 12)\n    Line #465 (got 13 columns instead of 12)\n    Line #466 (got 13 columns instead of 12)\n    Line #467 (got 13 columns instead of 12)\n    Line #468 (got 13 columns instead of 12)\n    Line #469 (got 13 columns instead of 12)\n    Line #470 (got 13 columns instead of 12)\n    Line #471 (got 13 columns instead of 12)\n    Line #472 (got 13 columns instead of 12)\n    Line #473 (got 13 columns instead of 12)\n    Line #474 (got 13 columns instead of 12)\n    Line #475 (got 13 columns instead of 12)\n    Line #476 (got 13 columns instead of 12)\n    Line #477 (got 13 columns instead of 12)\n    Line #478 (got 13 columns instead of 12)\n    Line #479 (got 13 columns instead of 12)\n    Line #480 (got 13 columns instead of 12)\n    Line #481 (got 13 columns instead of 12)\n    Line #482 (got 13 columns instead of 12)\n    Line #483 (got 13 columns instead of 12)\n    Line #484 (got 13 columns instead of 12)\n    Line #485 (got 13 columns instead of 12)\n    Line #486 (got 13 columns instead of 12)\n    Line #487 (got 13 columns instead of 12)\n    Line #488 (got 13 columns instead of 12)\n    Line #489 (got 13 columns instead of 12)\n    Line #490 (got 13 columns instead of 12)\n    Line #491 (got 13 columns instead of 12)\n    Line #492 (got 13 columns instead of 12)\n    Line #493 (got 13 columns instead of 12)\n    Line #494 (got 13 columns instead of 12)\n    Line #495 (got 13 columns instead of 12)\n    Line #496 (got 13 columns instead of 12)\n    Line #497 (got 13 columns instead of 12)\n    Line #498 (got 13 columns instead of 12)\n    Line #499 (got 13 columns instead of 12)\n    Line #500 (got 13 columns instead of 12)\n    Line #501 (got 13 columns instead of 12)\n    Line #502 (got 13 columns instead of 12)\n    Line #503 (got 13 columns instead of 12)\n    Line #504 (got 13 columns instead of 12)\n    Line #505 (got 13 columns instead of 12)\n    Line #506 (got 13 columns instead of 12)\n    Line #507 (got 13 columns instead of 12)\n    Line #508 (got 13 columns instead of 12)\n    Line #509 (got 13 columns instead of 12)\n    Line #510 (got 13 columns instead of 12)\n    Line #511 (got 13 columns instead of 12)\n    Line #512 (got 13 columns instead of 12)\n    Line #513 (got 13 columns instead of 12)\n    Line #514 (got 13 columns instead of 12)\n    Line #515 (got 13 columns instead of 12)\n    Line #516 (got 13 columns instead of 12)\n    Line #517 (got 13 columns instead of 12)\n    Line #518 (got 13 columns instead of 12)\n    Line #519 (got 13 columns instead of 12)\n    Line #520 (got 13 columns instead of 12)\n    Line #521 (got 13 columns instead of 12)\n    Line #522 (got 13 columns instead of 12)\n    Line #523 (got 13 columns instead of 12)\n    Line #524 (got 13 columns instead of 12)\n    Line #525 (got 13 columns instead of 12)\n    Line #526 (got 13 columns instead of 12)\n    Line #527 (got 13 columns instead of 12)\n    Line #528 (got 13 columns instead of 12)\n    Line #529 (got 13 columns instead of 12)\n    Line #530 (got 13 columns instead of 12)\n    Line #531 (got 13 columns instead of 12)\n    Line #532 (got 13 columns instead of 12)\n    Line #533 (got 13 columns instead of 12)\n    Line #534 (got 13 columns instead of 12)\n    Line #535 (got 13 columns instead of 12)\n    Line #536 (got 13 columns instead of 12)\n    Line #537 (got 13 columns instead of 12)\n    Line #538 (got 13 columns instead of 12)\n    Line #539 (got 13 columns instead of 12)\n    Line #540 (got 13 columns instead of 12)\n    Line #541 (got 13 columns instead of 12)\n    Line #542 (got 13 columns instead of 12)\n    Line #543 (got 13 columns instead of 12)\n    Line #544 (got 13 columns instead of 12)\n    Line #545 (got 13 columns instead of 12)\n    Line #546 (got 13 columns instead of 12)\n    Line #547 (got 13 columns instead of 12)\n    Line #548 (got 13 columns instead of 12)\n    Line #549 (got 13 columns instead of 12)\n    Line #550 (got 13 columns instead of 12)\n    Line #551 (got 13 columns instead of 12)\n    Line #552 (got 13 columns instead of 12)\n    Line #553 (got 13 columns instead of 12)\n    Line #554 (got 13 columns instead of 12)\n    Line #555 (got 13 columns instead of 12)\n    Line #556 (got 13 columns instead of 12)\n    Line #557 (got 13 columns instead of 12)\n    Line #558 (got 13 columns instead of 12)\n    Line #559 (got 13 columns instead of 12)\n    Line #560 (got 13 columns instead of 12)\n    Line #561 (got 13 columns instead of 12)\n    Line #562 (got 13 columns instead of 12)\n    Line #563 (got 13 columns instead of 12)\n    Line #564 (got 13 columns instead of 12)\n    Line #565 (got 13 columns instead of 12)\n    Line #566 (got 13 columns instead of 12)\n    Line #567 (got 13 columns instead of 12)\n    Line #568 (got 13 columns instead of 12)\n    Line #569 (got 13 columns instead of 12)\n    Line #570 (got 13 columns instead of 12)\n    Line #571 (got 13 columns instead of 12)\n    Line #572 (got 13 columns instead of 12)\n    Line #573 (got 13 columns instead of 12)\n    Line #574 (got 13 columns instead of 12)\n    Line #575 (got 13 columns instead of 12)\n    Line #576 (got 13 columns instead of 12)\n    Line #577 (got 13 columns instead of 12)\n    Line #578 (got 13 columns instead of 12)\n    Line #579 (got 13 columns instead of 12)\n    Line #580 (got 13 columns instead of 12)\n    Line #581 (got 13 columns instead of 12)\n    Line #582 (got 13 columns instead of 12)\n    Line #583 (got 13 columns instead of 12)\n    Line #584 (got 13 columns instead of 12)\n    Line #585 (got 13 columns instead of 12)\n    Line #586 (got 13 columns instead of 12)\n    Line #587 (got 13 columns instead of 12)\n    Line #588 (got 13 columns instead of 12)\n    Line #589 (got 13 columns instead of 12)\n    Line #590 (got 13 columns instead of 12)\n    Line #591 (got 13 columns instead of 12)\n    Line #592 (got 13 columns instead of 12)\n    Line #593 (got 13 columns instead of 12)\n    Line #594 (got 13 columns instead of 12)\n    Line #595 (got 13 columns instead of 12)\n    Line #596 (got 13 columns instead of 12)\n    Line #597 (got 13 columns instead of 12)\n    Line #598 (got 13 columns instead of 12)\n    Line #599 (got 13 columns instead of 12)\n    Line #600 (got 13 columns instead of 12)\n    Line #601 (got 13 columns instead of 12)\n    Line #602 (got 13 columns instead of 12)\n    Line #603 (got 13 columns instead of 12)\n    Line #604 (got 13 columns instead of 12)\n    Line #605 (got 13 columns instead of 12)\n    Line #606 (got 13 columns instead of 12)\n    Line #607 (got 13 columns instead of 12)\n    Line #608 (got 13 columns instead of 12)\n    Line #609 (got 13 columns instead of 12)\n    Line #610 (got 13 columns instead of 12)\n    Line #611 (got 13 columns instead of 12)\n    Line #612 (got 13 columns instead of 12)\n    Line #613 (got 13 columns instead of 12)\n    Line #614 (got 13 columns instead of 12)\n    Line #615 (got 13 columns instead of 12)\n    Line #616 (got 13 columns instead of 12)\n    Line #617 (got 13 columns instead of 12)\n    Line #618 (got 13 columns instead of 12)\n    Line #619 (got 13 columns instead of 12)\n    Line #620 (got 13 columns instead of 12)\n    Line #621 (got 13 columns instead of 12)\n    Line #622 (got 13 columns instead of 12)\n    Line #623 (got 13 columns instead of 12)\n    Line #624 (got 13 columns instead of 12)\n    Line #625 (got 13 columns instead of 12)\n    Line #626 (got 13 columns instead of 12)\n    Line #627 (got 13 columns instead of 12)\n    Line #628 (got 13 columns instead of 12)\n    Line #629 (got 13 columns instead of 12)\n    Line #630 (got 13 columns instead of 12)\n    Line #631 (got 13 columns instead of 12)\n    Line #632 (got 13 columns instead of 12)\n    Line #633 (got 13 columns instead of 12)\n    Line #634 (got 13 columns instead of 12)\n    Line #635 (got 13 columns instead of 12)\n    Line #636 (got 13 columns instead of 12)\n    Line #637 (got 13 columns instead of 12)\n    Line #638 (got 13 columns instead of 12)\n    Line #639 (got 13 columns instead of 12)\n    Line #640 (got 13 columns instead of 12)\n    Line #641 (got 13 columns instead of 12)\n    Line #642 (got 13 columns instead of 12)\n    Line #643 (got 13 columns instead of 12)\n    Line #644 (got 13 columns instead of 12)\n    Line #645 (got 13 columns instead of 12)\n    Line #646 (got 13 columns instead of 12)\n    Line #647 (got 13 columns instead of 12)\n    Line #648 (got 13 columns instead of 12)\n    Line #649 (got 13 columns instead of 12)\n    Line #650 (got 13 columns instead of 12)\n    Line #651 (got 13 columns instead of 12)\n    Line #652 (got 13 columns instead of 12)\n    Line #653 (got 13 columns instead of 12)\n    Line #654 (got 13 columns instead of 12)\n    Line #655 (got 13 columns instead of 12)\n    Line #656 (got 13 columns instead of 12)\n    Line #657 (got 13 columns instead of 12)\n    Line #658 (got 13 columns instead of 12)\n    Line #659 (got 13 columns instead of 12)\n    Line #660 (got 13 columns instead of 12)\n    Line #661 (got 13 columns instead of 12)\n    Line #662 (got 13 columns instead of 12)\n    Line #663 (got 13 columns instead of 12)\n    Line #664 (got 13 columns instead of 12)\n    Line #665 (got 13 columns instead of 12)\n    Line #666 (got 13 columns instead of 12)\n    Line #667 (got 13 columns instead of 12)\n    Line #668 (got 13 columns instead of 12)\n    Line #669 (got 13 columns instead of 12)\n    Line #670 (got 13 columns instead of 12)\n    Line #671 (got 13 columns instead of 12)\n    Line #672 (got 13 columns instead of 12)\n    Line #673 (got 13 columns instead of 12)\n    Line #674 (got 13 columns instead of 12)\n    Line #675 (got 13 columns instead of 12)\n    Line #676 (got 13 columns instead of 12)\n    Line #677 (got 13 columns instead of 12)\n    Line #678 (got 13 columns instead of 12)\n    Line #679 (got 13 columns instead of 12)\n    Line #680 (got 13 columns instead of 12)\n    Line #681 (got 13 columns instead of 12)\n    Line #682 (got 13 columns instead of 12)\n    Line #683 (got 13 columns instead of 12)\n    Line #684 (got 13 columns instead of 12)\n    Line #685 (got 13 columns instead of 12)\n    Line #686 (got 13 columns instead of 12)\n    Line #687 (got 13 columns instead of 12)\n    Line #688 (got 13 columns instead of 12)\n    Line #689 (got 13 columns instead of 12)\n    Line #690 (got 13 columns instead of 12)\n    Line #691 (got 13 columns instead of 12)\n    Line #692 (got 13 columns instead of 12)\n    Line #693 (got 13 columns instead of 12)\n    Line #694 (got 13 columns instead of 12)\n    Line #695 (got 13 columns instead of 12)\n    Line #696 (got 13 columns instead of 12)\n    Line #697 (got 13 columns instead of 12)\n    Line #698 (got 13 columns instead of 12)\n    Line #699 (got 13 columns instead of 12)\n    Line #700 (got 13 columns instead of 12)\n    Line #701 (got 13 columns instead of 12)\n    Line #702 (got 13 columns instead of 12)\n    Line #703 (got 13 columns instead of 12)\n    Line #704 (got 13 columns instead of 12)\n    Line #705 (got 13 columns instead of 12)\n    Line #706 (got 13 columns instead of 12)\n    Line #707 (got 13 columns instead of 12)\n    Line #708 (got 13 columns instead of 12)\n    Line #709 (got 13 columns instead of 12)\n    Line #710 (got 13 columns instead of 12)\n    Line #711 (got 13 columns instead of 12)\n    Line #712 (got 13 columns instead of 12)\n    Line #713 (got 13 columns instead of 12)\n    Line #714 (got 13 columns instead of 12)\n    Line #715 (got 13 columns instead of 12)\n    Line #716 (got 13 columns instead of 12)\n    Line #717 (got 13 columns instead of 12)\n    Line #718 (got 13 columns instead of 12)\n    Line #719 (got 13 columns instead of 12)\n    Line #720 (got 13 columns instead of 12)\n    Line #721 (got 13 columns instead of 12)\n    Line #722 (got 13 columns instead of 12)\n    Line #723 (got 13 columns instead of 12)\n    Line #724 (got 13 columns instead of 12)\n    Line #725 (got 13 columns instead of 12)\n    Line #726 (got 13 columns instead of 12)\n    Line #727 (got 13 columns instead of 12)\n    Line #728 (got 13 columns instead of 12)\n    Line #729 (got 13 columns instead of 12)\n    Line #730 (got 13 columns instead of 12)\n    Line #731 (got 13 columns instead of 12)\n    Line #732 (got 13 columns instead of 12)\n    Line #733 (got 13 columns instead of 12)\n    Line #734 (got 13 columns instead of 12)\n    Line #735 (got 13 columns instead of 12)\n    Line #736 (got 13 columns instead of 12)\n    Line #737 (got 13 columns instead of 12)\n    Line #738 (got 13 columns instead of 12)\n    Line #739 (got 13 columns instead of 12)\n    Line #740 (got 13 columns instead of 12)\n    Line #741 (got 13 columns instead of 12)\n    Line #742 (got 13 columns instead of 12)\n    Line #743 (got 13 columns instead of 12)\n    Line #744 (got 13 columns instead of 12)\n    Line #745 (got 13 columns instead of 12)\n    Line #746 (got 13 columns instead of 12)\n    Line #747 (got 13 columns instead of 12)\n    Line #748 (got 13 columns instead of 12)\n    Line #749 (got 13 columns instead of 12)\n    Line #750 (got 13 columns instead of 12)\n    Line #751 (got 13 columns instead of 12)\n    Line #752 (got 13 columns instead of 12)\n    Line #753 (got 13 columns instead of 12)\n    Line #754 (got 13 columns instead of 12)\n    Line #755 (got 13 columns instead of 12)\n    Line #756 (got 13 columns instead of 12)\n    Line #757 (got 13 columns instead of 12)\n    Line #758 (got 13 columns instead of 12)\n    Line #759 (got 13 columns instead of 12)\n    Line #760 (got 13 columns instead of 12)\n    Line #761 (got 13 columns instead of 12)\n    Line #762 (got 13 columns instead of 12)\n    Line #763 (got 13 columns instead of 12)\n    Line #764 (got 13 columns instead of 12)\n    Line #765 (got 13 columns instead of 12)\n    Line #766 (got 13 columns instead of 12)\n    Line #767 (got 13 columns instead of 12)\n    Line #768 (got 13 columns instead of 12)\n    Line #769 (got 13 columns instead of 12)\n    Line #770 (got 13 columns instead of 12)\n    Line #771 (got 13 columns instead of 12)\n    Line #772 (got 13 columns instead of 12)\n    Line #773 (got 13 columns instead of 12)\n    Line #774 (got 13 columns instead of 12)\n    Line #775 (got 13 columns instead of 12)\n    Line #776 (got 13 columns instead of 12)\n    Line #777 (got 13 columns instead of 12)\n    Line #778 (got 13 columns instead of 12)\n    Line #779 (got 13 columns instead of 12)\n    Line #780 (got 13 columns instead of 12)\n    Line #781 (got 13 columns instead of 12)\n    Line #782 (got 13 columns instead of 12)\n    Line #783 (got 13 columns instead of 12)\n    Line #784 (got 13 columns instead of 12)\n    Line #785 (got 13 columns instead of 12)\n    Line #786 (got 13 columns instead of 12)\n    Line #787 (got 13 columns instead of 12)\n    Line #788 (got 13 columns instead of 12)\n    Line #789 (got 13 columns instead of 12)\n    Line #790 (got 13 columns instead of 12)\n    Line #791 (got 13 columns instead of 12)\n    Line #792 (got 13 columns instead of 12)\n    Line #793 (got 13 columns instead of 12)\n    Line #794 (got 13 columns instead of 12)\n    Line #795 (got 13 columns instead of 12)\n    Line #796 (got 13 columns instead of 12)\n    Line #797 (got 13 columns instead of 12)\n    Line #798 (got 13 columns instead of 12)\n    Line #799 (got 13 columns instead of 12)\n    Line #800 (got 13 columns instead of 12)\n    Line #801 (got 13 columns instead of 12)\n    Line #802 (got 13 columns instead of 12)\n    Line #803 (got 13 columns instead of 12)\n    Line #804 (got 13 columns instead of 12)\n    Line #805 (got 13 columns instead of 12)\n    Line #806 (got 13 columns instead of 12)\n    Line #807 (got 13 columns instead of 12)\n    Line #808 (got 13 columns instead of 12)\n    Line #809 (got 13 columns instead of 12)\n    Line #810 (got 13 columns instead of 12)\n    Line #811 (got 13 columns instead of 12)\n    Line #812 (got 13 columns instead of 12)\n    Line #813 (got 13 columns instead of 12)\n    Line #814 (got 13 columns instead of 12)\n    Line #815 (got 13 columns instead of 12)\n    Line #816 (got 13 columns instead of 12)\n    Line #817 (got 13 columns instead of 12)\n    Line #818 (got 13 columns instead of 12)\n    Line #819 (got 13 columns instead of 12)\n    Line #820 (got 13 columns instead of 12)\n    Line #821 (got 13 columns instead of 12)\n    Line #822 (got 13 columns instead of 12)\n    Line #823 (got 13 columns instead of 12)\n    Line #824 (got 13 columns instead of 12)\n    Line #825 (got 13 columns instead of 12)\n    Line #826 (got 13 columns instead of 12)\n    Line #827 (got 13 columns instead of 12)\n    Line #828 (got 13 columns instead of 12)\n    Line #829 (got 13 columns instead of 12)\n    Line #830 (got 13 columns instead of 12)\n    Line #831 (got 13 columns instead of 12)\n    Line #832 (got 13 columns instead of 12)\n    Line #833 (got 13 columns instead of 12)\n    Line #834 (got 13 columns instead of 12)\n    Line #835 (got 13 columns instead of 12)\n    Line #836 (got 13 columns instead of 12)\n    Line #837 (got 13 columns instead of 12)\n    Line #838 (got 13 columns instead of 12)\n    Line #839 (got 13 columns instead of 12)\n    Line #840 (got 13 columns instead of 12)\n    Line #841 (got 13 columns instead of 12)\n    Line #842 (got 13 columns instead of 12)\n    Line #843 (got 13 columns instead of 12)\n    Line #844 (got 13 columns instead of 12)\n    Line #845 (got 13 columns instead of 12)\n    Line #846 (got 13 columns instead of 12)\n    Line #847 (got 13 columns instead of 12)\n    Line #848 (got 13 columns instead of 12)\n    Line #849 (got 13 columns instead of 12)\n    Line #850 (got 13 columns instead of 12)\n    Line #851 (got 13 columns instead of 12)\n    Line #852 (got 13 columns instead of 12)\n    Line #853 (got 13 columns instead of 12)\n    Line #854 (got 13 columns instead of 12)\n    Line #855 (got 13 columns instead of 12)\n    Line #856 (got 13 columns instead of 12)\n    Line #857 (got 13 columns instead of 12)\n    Line #858 (got 13 columns instead of 12)\n    Line #859 (got 13 columns instead of 12)\n    Line #860 (got 13 columns instead of 12)\n    Line #861 (got 13 columns instead of 12)\n    Line #862 (got 13 columns instead of 12)\n    Line #863 (got 13 columns instead of 12)\n    Line #864 (got 13 columns instead of 12)\n    Line #865 (got 13 columns instead of 12)\n    Line #866 (got 13 columns instead of 12)\n    Line #867 (got 13 columns instead of 12)\n    Line #868 (got 13 columns instead of 12)\n    Line #869 (got 13 columns instead of 12)\n    Line #870 (got 13 columns instead of 12)\n    Line #871 (got 13 columns instead of 12)\n    Line #872 (got 13 columns instead of 12)\n    Line #873 (got 13 columns instead of 12)\n    Line #874 (got 13 columns instead of 12)\n    Line #875 (got 13 columns instead of 12)\n    Line #876 (got 13 columns instead of 12)\n    Line #877 (got 13 columns instead of 12)\n    Line #878 (got 13 columns instead of 12)\n    Line #879 (got 13 columns instead of 12)\n    Line #880 (got 13 columns instead of 12)\n    Line #881 (got 13 columns instead of 12)\n    Line #882 (got 13 columns instead of 12)\n    Line #883 (got 13 columns instead of 12)\n    Line #884 (got 13 columns instead of 12)\n    Line #885 (got 13 columns instead of 12)\n    Line #886 (got 13 columns instead of 12)\n    Line #887 (got 13 columns instead of 12)\n    Line #888 (got 13 columns instead of 12)\n    Line #889 (got 13 columns instead of 12)\n    Line #890 (got 13 columns instead of 12)\n    Line #891 (got 13 columns instead of 12)\n    Line #892 (got 13 columns instead of 12)"
     ]
    }
   ],
   "source": [
    "data = np.genfromtxt('01_data.csv',delimiter=',',names=True)"
   ]
  },
  {
   "cell_type": "code",
   "execution_count": null,
   "metadata": {},
   "outputs": [],
   "source": []
  }
 ],
 "metadata": {
  "kernelspec": {
   "display_name": "Python 3",
   "language": "python",
   "name": "python3"
  },
  "language_info": {
   "codemirror_mode": {
    "name": "ipython",
    "version": 3
   },
   "file_extension": ".py",
   "mimetype": "text/x-python",
   "name": "python",
   "nbconvert_exporter": "python",
   "pygments_lexer": "ipython3",
   "version": "3.6.4"
  }
 },
 "nbformat": 4,
 "nbformat_minor": 2
}
